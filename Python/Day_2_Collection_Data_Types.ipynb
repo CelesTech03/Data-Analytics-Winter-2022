{
  "nbformat": 4,
  "nbformat_minor": 0,
  "metadata": {
    "colab": {
      "name": "Day 2 Collection Data Types.ipynb",
      "provenance": [],
      "collapsed_sections": [],
      "authorship_tag": "ABX9TyPCadXoEEnYwWTMcAvZvAuJ",
      "include_colab_link": true
    },
    "kernelspec": {
      "name": "python3",
      "display_name": "Python 3"
    },
    "language_info": {
      "name": "python"
    }
  },
  "cells": [
    {
      "cell_type": "markdown",
      "metadata": {
        "id": "view-in-github",
        "colab_type": "text"
      },
      "source": [
        "<a href=\"https://colab.research.google.com/github/CelesTech03/Data-Analytics-Winter-2022/blob/main/Python/Day_2_Collection_Data_Types.ipynb\" target=\"_parent\"><img src=\"https://colab.research.google.com/assets/colab-badge.svg\" alt=\"Open In Colab\"/></a>"
      ]
    },
    {
      "cell_type": "markdown",
      "source": [
        "# Collection Data Types\n",
        "List, Dictionaries, Sets & Tuples\n",
        "#Lists"
      ],
      "metadata": {
        "id": "QgX72Bi6OAK2"
      }
    },
    {
      "cell_type": "code",
      "source": [
        "movies = ['star wars', 'star trek', 'lord of the rings', 'avengers']\n",
        "print(movies)"
      ],
      "metadata": {
        "colab": {
          "base_uri": "https://localhost:8080/"
        },
        "id": "b2x0t6-yOHHF",
        "outputId": "c26c2ea1-2e06-4e7a-f42c-02966c082da4"
      },
      "execution_count": null,
      "outputs": [
        {
          "output_type": "stream",
          "name": "stdout",
          "text": [
            "['star wars', 'star trek', 'lord of the rings', 'avengers']\n"
          ]
        }
      ]
    },
    {
      "cell_type": "code",
      "source": [
        "movies[0]"
      ],
      "metadata": {
        "colab": {
          "base_uri": "https://localhost:8080/",
          "height": 35
        },
        "id": "2zhtFMt3OHEQ",
        "outputId": "4832a298-f758-4b26-80f2-9f5d85620756"
      },
      "execution_count": null,
      "outputs": [
        {
          "output_type": "execute_result",
          "data": {
            "application/vnd.google.colaboratory.intrinsic+json": {
              "type": "string"
            },
            "text/plain": [
              "'star wars'"
            ]
          },
          "metadata": {},
          "execution_count": 2
        }
      ]
    },
    {
      "cell_type": "code",
      "source": [
        "movies[1]"
      ],
      "metadata": {
        "colab": {
          "base_uri": "https://localhost:8080/",
          "height": 35
        },
        "id": "qIV9ohTaOHCJ",
        "outputId": "a18e886f-0db3-48e5-b98c-1d3ff575e1c0"
      },
      "execution_count": null,
      "outputs": [
        {
          "output_type": "execute_result",
          "data": {
            "application/vnd.google.colaboratory.intrinsic+json": {
              "type": "string"
            },
            "text/plain": [
              "'star trek'"
            ]
          },
          "metadata": {},
          "execution_count": 3
        }
      ]
    },
    {
      "cell_type": "code",
      "source": [
        "movies[2]"
      ],
      "metadata": {
        "colab": {
          "base_uri": "https://localhost:8080/",
          "height": 35
        },
        "id": "etoyDLCqOG_3",
        "outputId": "6623f4b3-2f69-4842-f4ff-a9d5abff3662"
      },
      "execution_count": null,
      "outputs": [
        {
          "output_type": "execute_result",
          "data": {
            "application/vnd.google.colaboratory.intrinsic+json": {
              "type": "string"
            },
            "text/plain": [
              "'lord of the rings'"
            ]
          },
          "metadata": {},
          "execution_count": 4
        }
      ]
    },
    {
      "cell_type": "code",
      "source": [
        "movies[3]"
      ],
      "metadata": {
        "colab": {
          "base_uri": "https://localhost:8080/",
          "height": 35
        },
        "id": "Pa9SCwlXOG9m",
        "outputId": "eaf783bb-f13a-4ba8-a2c9-3d625224194f"
      },
      "execution_count": null,
      "outputs": [
        {
          "output_type": "execute_result",
          "data": {
            "application/vnd.google.colaboratory.intrinsic+json": {
              "type": "string"
            },
            "text/plain": [
              "'avengers'"
            ]
          },
          "metadata": {},
          "execution_count": 5
        }
      ]
    },
    {
      "cell_type": "code",
      "source": [
        "s = \"Hello World\" "
      ],
      "metadata": {
        "id": "8yIjdhvLQON8"
      },
      "execution_count": null,
      "outputs": []
    },
    {
      "cell_type": "code",
      "source": [
        "s"
      ],
      "metadata": {
        "colab": {
          "base_uri": "https://localhost:8080/",
          "height": 35
        },
        "id": "PJOMCalqQOL1",
        "outputId": "21b78506-2104-4a51-b3f6-2a1df718a27b"
      },
      "execution_count": null,
      "outputs": [
        {
          "output_type": "execute_result",
          "data": {
            "application/vnd.google.colaboratory.intrinsic+json": {
              "type": "string"
            },
            "text/plain": [
              "'Hello World'"
            ]
          },
          "metadata": {},
          "execution_count": 8
        }
      ]
    },
    {
      "cell_type": "code",
      "source": [
        "len(s)"
      ],
      "metadata": {
        "colab": {
          "base_uri": "https://localhost:8080/"
        },
        "id": "uBINoij1QOJO",
        "outputId": "1c4063c7-7188-4956-a9f1-9ddfb345c143"
      },
      "execution_count": null,
      "outputs": [
        {
          "output_type": "execute_result",
          "data": {
            "text/plain": [
              "11"
            ]
          },
          "metadata": {},
          "execution_count": 9
        }
      ]
    },
    {
      "cell_type": "code",
      "source": [
        "# How many methods or functions are available for variable. Type variable name and .  Ex: (s.)\n",
        "s.upper()"
      ],
      "metadata": {
        "colab": {
          "base_uri": "https://localhost:8080/",
          "height": 35
        },
        "id": "PNpYAafdQNtF",
        "outputId": "2a397fc1-0822-4262-d775-6748fb8eed78"
      },
      "execution_count": null,
      "outputs": [
        {
          "output_type": "execute_result",
          "data": {
            "application/vnd.google.colaboratory.intrinsic+json": {
              "type": "string"
            },
            "text/plain": [
              "'HELLO WORLD'"
            ]
          },
          "metadata": {},
          "execution_count": 10
        }
      ]
    },
    {
      "cell_type": "code",
      "source": [
        "movies = ['Star Wars', 'Star Trek', 'Lord of The Rings', 'Avengers', 'The Hobbit', 'Fast and Furious']"
      ],
      "metadata": {
        "id": "X4onBBGsQNqo"
      },
      "execution_count": null,
      "outputs": []
    },
    {
      "cell_type": "code",
      "source": [
        "len(movies)"
      ],
      "metadata": {
        "colab": {
          "base_uri": "https://localhost:8080/"
        },
        "id": "FryTeybFQoTY",
        "outputId": "b423311e-846e-4219-c3df-b44b3f66bb08"
      },
      "execution_count": null,
      "outputs": [
        {
          "output_type": "execute_result",
          "data": {
            "text/plain": [
              "6"
            ]
          },
          "metadata": {},
          "execution_count": 12
        }
      ]
    },
    {
      "cell_type": "code",
      "source": [
        "movies[-1] # Gets last element in the list"
      ],
      "metadata": {
        "colab": {
          "base_uri": "https://localhost:8080/",
          "height": 35
        },
        "id": "ALob9ABVQoQn",
        "outputId": "ca5b49e8-8fd9-4d16-b465-75e25385c56a"
      },
      "execution_count": null,
      "outputs": [
        {
          "output_type": "execute_result",
          "data": {
            "application/vnd.google.colaboratory.intrinsic+json": {
              "type": "string"
            },
            "text/plain": [
              "'Fast and Furious'"
            ]
          },
          "metadata": {},
          "execution_count": 14
        }
      ]
    },
    {
      "cell_type": "code",
      "source": [
        "# Creating a list of movies \n",
        "movies = ['Star Wars', 'Star Trek', 'Lord of The Rings', 'Avengers']\n",
        "''' \n",
        " Creating a variable and assigning a couple of things.\n",
        " First I am extracting a movie from my list by indexing through the list.\n",
        " Then, I am applying the built-in method (or function) '.upper()' to the extracted movie from the list.\n",
        " The '.upper()' method simply capitalizes every letter - e.g. word --> WORD\n",
        " Lastly, I am concatinating a string to my extracted movie from the list and then I am concatinating\n",
        " another string at the end.\n",
        "'''\n",
        "message = 'My favorite movie is ' + movies[0].upper() + '!!!'\n",
        "# In this line I am printing the content of my variable 'message' to the screen\n",
        "print(message)  "
      ],
      "metadata": {
        "colab": {
          "base_uri": "https://localhost:8080/"
        },
        "id": "cGlJOatjQoMt",
        "outputId": "7f3051c6-8833-4b27-c119-8ca260809da2"
      },
      "execution_count": null,
      "outputs": [
        {
          "output_type": "stream",
          "name": "stdout",
          "text": [
            "My favorite movie is STAR WARS!!!\n"
          ]
        }
      ]
    },
    {
      "cell_type": "code",
      "source": [
        "movies = ['Star Wars', 'Star Trek', 'Lord of The Rings', 'Avengers']\n",
        "movies[1] = 'The Matrix'\n",
        "print(movies)"
      ],
      "metadata": {
        "id": "R5Ch2eipQoGk",
        "colab": {
          "base_uri": "https://localhost:8080/"
        },
        "outputId": "00d4a5bf-f971-4c3b-e6eb-d7a17dd55088"
      },
      "execution_count": null,
      "outputs": [
        {
          "output_type": "stream",
          "name": "stdout",
          "text": [
            "['Star Wars', 'The Matrix', 'Lord of The Rings', 'Avengers']\n"
          ]
        }
      ]
    },
    {
      "cell_type": "code",
      "source": [
        "# Append method adds a new element to the end of the list\n",
        "movies.append('The Purge') "
      ],
      "metadata": {
        "id": "obAE0PMEQNoN"
      },
      "execution_count": null,
      "outputs": []
    },
    {
      "cell_type": "code",
      "source": [
        "movies"
      ],
      "metadata": {
        "colab": {
          "base_uri": "https://localhost:8080/"
        },
        "id": "QRNS_29DdVCU",
        "outputId": "3b2d3ac7-bbdb-4d57-c0e0-404512bad0d2"
      },
      "execution_count": null,
      "outputs": [
        {
          "output_type": "execute_result",
          "data": {
            "text/plain": [
              "['Star Wars', 'The Matrix', 'Lord of The Rings', 'Avengers', 'The Purge']"
            ]
          },
          "metadata": {},
          "execution_count": 42
        }
      ]
    },
    {
      "cell_type": "code",
      "source": [
        "movies.append(\"Home Alone\")\n",
        "movies"
      ],
      "metadata": {
        "colab": {
          "base_uri": "https://localhost:8080/"
        },
        "id": "DAoNiCuzdU_6",
        "outputId": "287027df-87dd-45c2-ff32-20b30685332c"
      },
      "execution_count": null,
      "outputs": [
        {
          "output_type": "execute_result",
          "data": {
            "text/plain": [
              "['Star Wars',\n",
              " 'The Matrix',\n",
              " 'Lord of The Rings',\n",
              " 'Avengers',\n",
              " 'The Purge',\n",
              " 'Home Alone']"
            ]
          },
          "metadata": {},
          "execution_count": 43
        }
      ]
    },
    {
      "cell_type": "code",
      "source": [
        "del movies[2] # Removes an element from the list"
      ],
      "metadata": {
        "id": "OgNv8_B4dU9k"
      },
      "execution_count": null,
      "outputs": []
    },
    {
      "cell_type": "code",
      "source": [
        "movies"
      ],
      "metadata": {
        "id": "C6HYfIIpeKBh",
        "colab": {
          "base_uri": "https://localhost:8080/"
        },
        "outputId": "d1587361-e96c-4bcf-c804-4c215a8f903d"
      },
      "execution_count": null,
      "outputs": [
        {
          "output_type": "execute_result",
          "data": {
            "text/plain": [
              "['Avengers', 'Home Alone', 'Star Wars', 'The Matrix', 'The Purge']"
            ]
          },
          "metadata": {},
          "execution_count": 50
        }
      ]
    },
    {
      "cell_type": "code",
      "source": [
        "movies.sort() # Sorts list in alphabetical order \n",
        "print(movies)"
      ],
      "metadata": {
        "id": "7ZtXdiVGeJ_Q",
        "colab": {
          "base_uri": "https://localhost:8080/"
        },
        "outputId": "ba1d7f49-e04b-4fb6-cd97-1c4acc453c0a"
      },
      "execution_count": null,
      "outputs": [
        {
          "output_type": "stream",
          "name": "stdout",
          "text": [
            "['Avengers', 'Home Alone', 'Star Wars', 'The Matrix', 'The Purge']\n"
          ]
        }
      ]
    },
    {
      "cell_type": "code",
      "source": [
        "movies.sort(reverse=True) # Still alphabetical but the other way around (Z-A)\n",
        "print(movies)"
      ],
      "metadata": {
        "id": "XRNBmt8peJ8y",
        "colab": {
          "base_uri": "https://localhost:8080/"
        },
        "outputId": "b565f3de-814c-4d7e-dd67-a1053903fd94"
      },
      "execution_count": null,
      "outputs": [
        {
          "output_type": "stream",
          "name": "stdout",
          "text": [
            "['The Purge', 'The Matrix', 'Star Wars', 'Home Alone', 'Avengers']\n"
          ]
        }
      ]
    }
  ]
}