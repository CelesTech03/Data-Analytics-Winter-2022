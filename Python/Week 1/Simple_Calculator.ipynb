{
  "nbformat": 4,
  "nbformat_minor": 0,
  "metadata": {
    "colab": {
      "name": "Simple Calculator.ipynb",
      "provenance": [],
      "collapsed_sections": [],
      "authorship_tag": "ABX9TyNldAWc/BuzEx9hBHqhJJtc",
      "include_colab_link": true
    },
    "kernelspec": {
      "name": "python3",
      "display_name": "Python 3"
    },
    "language_info": {
      "name": "python"
    }
  },
  "cells": [
    {
      "cell_type": "markdown",
      "metadata": {
        "id": "view-in-github",
        "colab_type": "text"
      },
      "source": [
        "<a href=\"https://colab.research.google.com/github/CelesTech03/Data-Analytics-Winter-2022/blob/main/Python/Simple_Calculator.ipynb\" target=\"_parent\"><img src=\"https://colab.research.google.com/assets/colab-badge.svg\" alt=\"Open In Colab\"/></a>"
      ]
    },
    {
      "cell_type": "markdown",
      "source": [
        "# Calculator Function"
      ],
      "metadata": {
        "id": "sKmqPycT_NRg"
      }
    },
    {
      "cell_type": "code",
      "source": [
        "def calculator():\n",
        "  \n",
        "  select = int(input(\"Select a number for the operation: \\n1. Add, \\n2. Subtract, \\n3. Multiply, \\n4. Divide \\n\"))\n",
        "\n",
        "  number_1 = int(input(\"Enter first number: \"))\n",
        "  number_2 = int(input(\"Enter second number: \"))\n",
        "\n",
        "  if select == 1:\n",
        "    print(number_1 + number_2)\n",
        "  \n",
        "  elif select == 2:\n",
        "    print(number_1 - number_2)\n",
        "  \n",
        "  elif select == 3:\n",
        "    print(number_1 * number_2)\n",
        "  \n",
        "  elif select == 4:\n",
        "    print(number_1 / number_2)\n",
        "  else:\n",
        "    print(\"Invalid input\")\n",
        "\n",
        "calculator()\n",
        "  "
      ],
      "metadata": {
        "colab": {
          "base_uri": "https://localhost:8080/"
        },
        "id": "Cwuh6wUX_q20",
        "outputId": "9ca06959-1584-44b9-9646-3207d3673670"
      },
      "execution_count": 1,
      "outputs": [
        {
          "output_type": "stream",
          "name": "stdout",
          "text": [
            "Select a number for the operation: \n",
            "1. Add, \n",
            "2. Subtract, \n",
            "3. Multiply, \n",
            "4. Divide \n",
            "4\n",
            "Enter first number: 500\n",
            "Enter second number: 100\n",
            "5.0\n"
          ]
        }
      ]
    }
  ]
}
