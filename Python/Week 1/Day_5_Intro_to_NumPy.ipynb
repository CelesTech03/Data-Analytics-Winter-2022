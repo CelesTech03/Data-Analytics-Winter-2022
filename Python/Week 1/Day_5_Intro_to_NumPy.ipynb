{
  "nbformat": 4,
  "nbformat_minor": 0,
  "metadata": {
    "colab": {
      "name": "Day 5 Intro to NumPy.ipynb",
      "provenance": [],
      "collapsed_sections": [
        "Tv8pY2HKhFFE"
      ],
      "authorship_tag": "ABX9TyPvdGRQpDTG77ZmlXlhmAN0",
      "include_colab_link": true
    },
    "kernelspec": {
      "name": "python3",
      "display_name": "Python 3"
    },
    "language_info": {
      "name": "python"
    }
  },
  "cells": [
    {
      "cell_type": "markdown",
      "metadata": {
        "id": "view-in-github",
        "colab_type": "text"
      },
      "source": [
        "<a href=\"https://colab.research.google.com/github/CelesTech03/Data-Analytics-Winter-2022/blob/main/Python/Day_5_Intro_to_NumPy.ipynb\" target=\"_parent\"><img src=\"https://colab.research.google.com/assets/colab-badge.svg\" alt=\"Open In Colab\"/></a>"
      ]
    },
    {
      "cell_type": "markdown",
      "source": [
        "#Intro to NumPY"
      ],
      "metadata": {
        "id": "9o8hfoh06s1-"
      }
    },
    {
      "cell_type": "code",
      "source": [
        "import numpy as np # Way of renaming package for your convenience"
      ],
      "metadata": {
        "id": "xoLnh8m36xtf"
      },
      "execution_count": null,
      "outputs": []
    },
    {
      "cell_type": "code",
      "source": [
        "# one-dimensional array\n",
        "np_city = np.array(['NYC', 'LA', 'Miami', 'Houston'])\n",
        "np_city.ndim #gets dimension"
      ],
      "metadata": {
        "id": "SRJQ5NlK6xqr",
        "colab": {
          "base_uri": "https://localhost:8080/"
        },
        "outputId": "b6bb8a8a-f378-4ef6-d438-7cfb09a9916e"
      },
      "execution_count": null,
      "outputs": [
        {
          "output_type": "execute_result",
          "data": {
            "text/plain": [
              "1"
            ]
          },
          "metadata": {},
          "execution_count": 2
        }
      ]
    },
    {
      "cell_type": "markdown",
      "source": [
        "# Fundamentals"
      ],
      "metadata": {
        "id": "Tv8pY2HKhFFE"
      }
    },
    {
      "cell_type": "code",
      "source": [
        "# .shape = Dimensions of the array. A tuple of integers showing the size\n",
        "# of the array in each dimension\n",
        "np_city.shape"
      ],
      "metadata": {
        "colab": {
          "base_uri": "https://localhost:8080/"
        },
        "id": "L7UpnR4U6xoC",
        "outputId": "b920fe61-0911-4d45-b39a-e1e9e17669d9"
      },
      "execution_count": null,
      "outputs": [
        {
          "output_type": "execute_result",
          "data": {
            "text/plain": [
              "(4,)"
            ]
          },
          "metadata": {},
          "execution_count": 3
        }
      ]
    },
    {
      "cell_type": "code",
      "source": [
        "# Total number of elements in the array. Equal to the product of the\n",
        "# elements of shape\n",
        "np_city.size"
      ],
      "metadata": {
        "colab": {
          "base_uri": "https://localhost:8080/"
        },
        "id": "rJkY-E7Y6xl9",
        "outputId": "90d83169-9bd5-4868-c69e-475431e9af7f"
      },
      "execution_count": null,
      "outputs": [
        {
          "output_type": "execute_result",
          "data": {
            "text/plain": [
              "4"
            ]
          },
          "metadata": {},
          "execution_count": 4
        }
      ]
    },
    {
      "cell_type": "code",
      "source": [
        "# An object describing the type of the elements in the array\n",
        "# They can be created or specified using Python\n",
        "np_city.dtype"
      ],
      "metadata": {
        "colab": {
          "base_uri": "https://localhost:8080/"
        },
        "id": "xgGBNGBG6xjf",
        "outputId": "4845a8f8-7ad2-408b-e0d3-276b0b980dd7"
      },
      "execution_count": null,
      "outputs": [
        {
          "output_type": "execute_result",
          "data": {
            "text/plain": [
              "dtype('<U7')"
            ]
          },
          "metadata": {},
          "execution_count": 5
        }
      ]
    },
    {
      "cell_type": "code",
      "source": [
        "# np_city is one-dimensional and np_city2 is two-dimensional\n",
        "np_city2 = np.array([['NYC', 'LA', 'Maimi', 'Houston'], \n",
        "                     ['NY', 'CA', 'FL', 'TX']])\n",
        "np_city2.ndim"
      ],
      "metadata": {
        "id": "xOJNbuyS6xhD",
        "colab": {
          "base_uri": "https://localhost:8080/"
        },
        "outputId": "2fa0f8f7-674c-41a3-a9b3-4728c846157f"
      },
      "execution_count": null,
      "outputs": [
        {
          "output_type": "execute_result",
          "data": {
            "text/plain": [
              "2"
            ]
          },
          "metadata": {},
          "execution_count": 6
        }
      ]
    },
    {
      "cell_type": "code",
      "source": [
        "# The shape tuple of both the arrays indicate their size along each dimension.\n",
        "np_city2.shape"
      ],
      "metadata": {
        "colab": {
          "base_uri": "https://localhost:8080/"
        },
        "id": "ZYeRsaHx8DZD",
        "outputId": "e60be909-a1ce-4a5c-8435-03e0a8b8587f"
      },
      "execution_count": null,
      "outputs": [
        {
          "output_type": "execute_result",
          "data": {
            "text/plain": [
              "(2, 4)"
            ]
          },
          "metadata": {},
          "execution_count": 7
        }
      ]
    },
    {
      "cell_type": "code",
      "source": [
        "np_city2.dtype"
      ],
      "metadata": {
        "colab": {
          "base_uri": "https://localhost:8080/"
        },
        "id": "dfFWv6428DW9",
        "outputId": "0fb681ec-106a-43e1-a59d-549ccb20b0fa"
      },
      "execution_count": null,
      "outputs": [
        {
          "output_type": "execute_result",
          "data": {
            "text/plain": [
              "dtype('<U7')"
            ]
          },
          "metadata": {},
          "execution_count": 8
        }
      ]
    },
    {
      "cell_type": "code",
      "source": [
        "# Gets the amount of elements in the array\n",
        "np_city2.size"
      ],
      "metadata": {
        "colab": {
          "base_uri": "https://localhost:8080/"
        },
        "id": "mw_omLNu8DUe",
        "outputId": "ad43530c-6321-45cb-baa5-c259010dca4b"
      },
      "execution_count": null,
      "outputs": [
        {
          "output_type": "execute_result",
          "data": {
            "text/plain": [
              "8"
            ]
          },
          "metadata": {},
          "execution_count": 9
        }
      ]
    },
    {
      "cell_type": "code",
      "source": [
        "# Create a np array with 5 Lists in it\n",
        "# each list must have 10 items in it\n",
        "\n",
        "np_colors = np.array([['Red', 'Green', 'Blue', 'Pink', 'Yellow', 'Brown', 'White', 'Purple', 'Orange', 'Gray'],\n",
        "                     ['Red', 'Green', 'Blue', 'Pink', 'Yellow', 'Brown', 'White', 'Purple', 'Orange', 'Gray'],\n",
        "                     ['Red', 'Green', 'Blue', 'Pink', 'Yellow', 'Brown', 'White', 'Purple', 'Orange', 'Gray'],\n",
        "                     ['Red', 'Green', 'Blue', 'Pink', 'Yellow', 'Brown', 'White', 'Purple', 'Orange', 'Gray'],\n",
        "                     ['Red', 'Green', 'Blue', 'Pink', 'Yellow', 'Brown', 'White', 'Purple', 'Orange', 'Gray']])"
      ],
      "metadata": {
        "id": "0wlDwOng8DSB"
      },
      "execution_count": null,
      "outputs": []
    },
    {
      "cell_type": "code",
      "source": [
        "np_colors.shape"
      ],
      "metadata": {
        "colab": {
          "base_uri": "https://localhost:8080/"
        },
        "id": "pEHR-pfo8DPm",
        "outputId": "51e4888c-2e85-419f-c920-51a0c6c5c517"
      },
      "execution_count": null,
      "outputs": [
        {
          "output_type": "execute_result",
          "data": {
            "text/plain": [
              "(5, 10)"
            ]
          },
          "metadata": {},
          "execution_count": 11
        }
      ]
    },
    {
      "cell_type": "code",
      "source": [
        "np_city2.dtype"
      ],
      "metadata": {
        "colab": {
          "base_uri": "https://localhost:8080/"
        },
        "id": "xuO_HC1K-m3z",
        "outputId": "1b900eca-4a04-41a3-fe2a-6e4790cabdba"
      },
      "execution_count": null,
      "outputs": [
        {
          "output_type": "execute_result",
          "data": {
            "text/plain": [
              "dtype('<U7')"
            ]
          },
          "metadata": {},
          "execution_count": 12
        }
      ]
    },
    {
      "cell_type": "code",
      "source": [
        "np_city2.size"
      ],
      "metadata": {
        "colab": {
          "base_uri": "https://localhost:8080/"
        },
        "id": "NyHj10LB-m0d",
        "outputId": "151b819a-b7f3-48a3-cf85-eef0d5b1c101"
      },
      "execution_count": null,
      "outputs": [
        {
          "output_type": "execute_result",
          "data": {
            "text/plain": [
              "8"
            ]
          },
          "metadata": {},
          "execution_count": 13
        }
      ]
    },
    {
      "cell_type": "markdown",
      "source": [
        "#Basic Operations"
      ],
      "metadata": {
        "id": "Jr0Uy2jVhJeQ"
      }
    },
    {
      "cell_type": "code",
      "source": [
        "# NumPy uses the indices of the elements in each array to carry out basic operations. \n",
        "# In this case, where we are looking at a dataset of four cyclists during two trials, vector addition of the arrays gives the required output.\n",
        "first_trial_cyclist = [10, 15, 17, 26, 37, 49, 57, 61]"
      ],
      "metadata": {
        "id": "BlDXdDrV-zbS"
      },
      "execution_count": null,
      "outputs": []
    },
    {
      "cell_type": "code",
      "source": [
        "second_trial_cyclist = [11, 45, 65, 24, 23, 45, 90, 99]"
      ],
      "metadata": {
        "id": "amU-x9ex-zYs"
      },
      "execution_count": null,
      "outputs": []
    },
    {
      "cell_type": "code",
      "source": [
        "np_first_trial = np.array(first_trial_cyclist)\n",
        "np_second_trial = np.array(second_trial_cyclist) "
      ],
      "metadata": {
        "id": "aedPbK-9-zWO"
      },
      "execution_count": null,
      "outputs": []
    },
    {
      "cell_type": "code",
      "source": [
        "np_first_trial + np_second_trial"
      ],
      "metadata": {
        "colab": {
          "base_uri": "https://localhost:8080/"
        },
        "id": "yOAiUyUq-zT8",
        "outputId": "bd4d1743-95ab-4174-ae8c-e44cd96365a9"
      },
      "execution_count": null,
      "outputs": [
        {
          "output_type": "execute_result",
          "data": {
            "text/plain": [
              "array([ 21,  60,  82,  50,  60,  94, 147, 160])"
            ]
          },
          "metadata": {},
          "execution_count": 17
        }
      ]
    },
    {
      "cell_type": "code",
      "source": [
        "np_first_trial[1] * np_second_trial[5]"
      ],
      "metadata": {
        "colab": {
          "base_uri": "https://localhost:8080/"
        },
        "id": "GuC0Ss11-zRU",
        "outputId": "6ee72d6c-0222-4aac-e7f0-950397ae2cda"
      },
      "execution_count": null,
      "outputs": [
        {
          "output_type": "execute_result",
          "data": {
            "text/plain": [
              "675"
            ]
          },
          "metadata": {},
          "execution_count": 18
        }
      ]
    },
    {
      "cell_type": "markdown",
      "source": [
        "#Accessing elements"
      ],
      "metadata": {
        "id": "RIgm1JgBTT5z"
      }
    },
    {
      "cell_type": "code",
      "source": [
        "cyclist_trial = np.array([[10, 15, 17, 26],[12, 11, 21, 24]])"
      ],
      "metadata": {
        "id": "41jvxsdu-mxp"
      },
      "execution_count": null,
      "outputs": []
    },
    {
      "cell_type": "code",
      "source": [
        "# You can access an entire row of an array by referencing its axis index.\n",
        "ftrial = cyclist_trial[0]\n",
        "ftrial"
      ],
      "metadata": {
        "id": "twI9T9NvAsD9",
        "colab": {
          "base_uri": "https://localhost:8080/"
        },
        "outputId": "1dafb65f-49ad-426c-a9f1-576ed57c00e9"
      },
      "execution_count": null,
      "outputs": [
        {
          "output_type": "execute_result",
          "data": {
            "text/plain": [
              "array([10, 15, 17, 26])"
            ]
          },
          "metadata": {},
          "execution_count": 20
        }
      ]
    },
    {
      "cell_type": "code",
      "source": [
        "# First cyclist: all trial data. Use ':' to select all the rows of an array\n",
        "first_cyclist_all_trials = cyclist_trial[:,0]\n",
        "first_cyclist_all_trials"
      ],
      "metadata": {
        "colab": {
          "base_uri": "https://localhost:8080/"
        },
        "id": "kJQv-LA_iQkM",
        "outputId": "d4d69f44-0b94-42ab-e69b-fd1f5110a691"
      },
      "execution_count": null,
      "outputs": [
        {
          "output_type": "execute_result",
          "data": {
            "text/plain": [
              "array([10, 12])"
            ]
          },
          "metadata": {},
          "execution_count": 21
        }
      ]
    },
    {
      "cell_type": "code",
      "source": [
        "newlist = ['string1', 'string2']"
      ],
      "metadata": {
        "id": "ylYCu90LAr_l"
      },
      "execution_count": null,
      "outputs": []
    },
    {
      "cell_type": "code",
      "source": [
        "newlist[0]"
      ],
      "metadata": {
        "colab": {
          "base_uri": "https://localhost:8080/"
        },
        "id": "NnQMRrwWBHT7",
        "outputId": "5c54b1c2-e9a6-4527-87ce-ca119a4d0d1d"
      },
      "execution_count": null,
      "outputs": [
        {
          "output_type": "execute_result",
          "data": {
            "application/vnd.google.colaboratory.intrinsic+json": {
              "type": "string"
            },
            "text/plain": [
              "'string1'"
            ]
          },
          "metadata": {},
          "execution_count": 23
        }
      ]
    },
    {
      "cell_type": "code",
      "source": [
        "newlist[0][2] # Gets the second elements of the first set data"
      ],
      "metadata": {
        "colab": {
          "base_uri": "https://localhost:8080/"
        },
        "id": "tRgZCGYQBHR1",
        "outputId": "ee99fa40-ff94-43a8-f8f3-6d5b04e5a5c1"
      },
      "execution_count": null,
      "outputs": [
        {
          "output_type": "execute_result",
          "data": {
            "application/vnd.google.colaboratory.intrinsic+json": {
              "type": "string"
            },
            "text/plain": [
              "'r'"
            ]
          },
          "metadata": {},
          "execution_count": 24
        }
      ]
    },
    {
      "cell_type": "code",
      "source": [
        "strail = cyclist_trial[1]"
      ],
      "metadata": {
        "id": "QwFTQeSIBHPX"
      },
      "execution_count": null,
      "outputs": []
    },
    {
      "cell_type": "code",
      "source": [
        "strail"
      ],
      "metadata": {
        "colab": {
          "base_uri": "https://localhost:8080/"
        },
        "id": "WqMz2EehBf5l",
        "outputId": "f35bd692-23d1-4925-88df-c9be94246c61"
      },
      "execution_count": null,
      "outputs": [
        {
          "output_type": "execute_result",
          "data": {
            "text/plain": [
              "array([12, 11, 21, 24])"
            ]
          },
          "metadata": {},
          "execution_count": 26
        }
      ]
    },
    {
      "cell_type": "code",
      "source": [
        "ftrial[1] # This is the same as saying cyclist_trial[0][1]"
      ],
      "metadata": {
        "colab": {
          "base_uri": "https://localhost:8080/"
        },
        "id": "vKsIn9BfBf3g",
        "outputId": "2e9f4bd1-54c0-47b3-b6d0-75800e11f3ae"
      },
      "execution_count": null,
      "outputs": [
        {
          "output_type": "execute_result",
          "data": {
            "text/plain": [
              "15"
            ]
          },
          "metadata": {},
          "execution_count": 27
        }
      ]
    },
    {
      "cell_type": "code",
      "source": [
        "cyclist_trial[0][1]"
      ],
      "metadata": {
        "colab": {
          "base_uri": "https://localhost:8080/"
        },
        "id": "fx6FWjtVBf1X",
        "outputId": "90a83fbc-1abb-4e0a-9598-217a5573753d"
      },
      "execution_count": null,
      "outputs": [
        {
          "output_type": "execute_result",
          "data": {
            "text/plain": [
              "15"
            ]
          },
          "metadata": {},
          "execution_count": 28
        }
      ]
    },
    {
      "cell_type": "code",
      "source": [
        "# Boolean arrays are useful when you need to select a dataset according to set criteria. \n",
        "# Here, the original dataset contains test scores of two students. You can use a Boolean array to choose \n",
        "# only the scores that are above a given value.\n",
        "test_score = np.array([[83, 71, 67, 63], \n",
        "                       [54, 68, 81, 45]])\n",
        "\n",
        "passed = test_score > 60\n",
        "passed"
      ],
      "metadata": {
        "id": "IDH1ucW8Bfzd",
        "colab": {
          "base_uri": "https://localhost:8080/"
        },
        "outputId": "894ff6cb-9994-4e52-804f-b72f641df1c9"
      },
      "execution_count": null,
      "outputs": [
        {
          "output_type": "execute_result",
          "data": {
            "text/plain": [
              "array([[ True,  True,  True,  True],\n",
              "       [False,  True,  True, False]])"
            ]
          },
          "metadata": {},
          "execution_count": 29
        }
      ]
    },
    {
      "cell_type": "code",
      "source": [
        "# Send \"passing score\" as an argument to \"test scores\" object\n",
        "test_score[passed]"
      ],
      "metadata": {
        "colab": {
          "base_uri": "https://localhost:8080/"
        },
        "id": "QJaJy0KCjmJs",
        "outputId": "9f17996a-a9dc-46f6-f20c-5e1a26c02fd1"
      },
      "execution_count": null,
      "outputs": [
        {
          "output_type": "execute_result",
          "data": {
            "text/plain": [
              "array([83, 71, 67, 63, 68, 81])"
            ]
          },
          "metadata": {},
          "execution_count": 30
        }
      ]
    },
    {
      "cell_type": "code",
      "source": [
        "test2_scores = test_score"
      ],
      "metadata": {
        "id": "y_7wJLMYBzNL"
      },
      "execution_count": null,
      "outputs": []
    },
    {
      "cell_type": "code",
      "source": [
        "test_score is test2_scores"
      ],
      "metadata": {
        "colab": {
          "base_uri": "https://localhost:8080/"
        },
        "id": "8OCaSL98BzK6",
        "outputId": "da7bf749-7b72-46fb-d778-5421bedca7ce"
      },
      "execution_count": null,
      "outputs": [
        {
          "output_type": "execute_result",
          "data": {
            "text/plain": [
              "True"
            ]
          },
          "metadata": {},
          "execution_count": 32
        }
      ]
    },
    {
      "cell_type": "code",
      "source": [
        "test2_scores[1][3] = 78"
      ],
      "metadata": {
        "id": "AyCj04Z8Fab6"
      },
      "execution_count": null,
      "outputs": []
    },
    {
      "cell_type": "code",
      "source": [
        "test2_scores"
      ],
      "metadata": {
        "colab": {
          "base_uri": "https://localhost:8080/"
        },
        "id": "lq3990JpFgZM",
        "outputId": "5f70904a-897d-41a8-825e-d56fd8fb871d"
      },
      "execution_count": null,
      "outputs": [
        {
          "output_type": "execute_result",
          "data": {
            "text/plain": [
              "array([[83, 71, 67, 63],\n",
              "       [54, 68, 81, 78]])"
            ]
          },
          "metadata": {},
          "execution_count": 34
        }
      ]
    },
    {
      "cell_type": "code",
      "source": [
        "test_score"
      ],
      "metadata": {
        "colab": {
          "base_uri": "https://localhost:8080/"
        },
        "id": "ETorvTRkFgSM",
        "outputId": "115d8ff9-7062-4118-ae9e-93217ab9a740"
      },
      "execution_count": null,
      "outputs": [
        {
          "output_type": "execute_result",
          "data": {
            "text/plain": [
              "array([[83, 71, 67, 63],\n",
              "       [54, 68, 81, 78]])"
            ]
          },
          "metadata": {},
          "execution_count": 35
        }
      ]
    },
    {
      "cell_type": "code",
      "source": [
        "# When working with arrays, data is copied into new arrays only in some cases. Following are the three possible scenarios:\n",
        "NYC_Borough = np.array(['Manhattan', 'Bronx', 'Brooklyn', 'Staten Island', 'Queens'])\n",
        "NYC_Borough"
      ],
      "metadata": {
        "id": "z_rWCwN-BzIb",
        "colab": {
          "base_uri": "https://localhost:8080/"
        },
        "outputId": "b80744ff-271b-4abb-9f11-b47c05444c9e"
      },
      "execution_count": null,
      "outputs": [
        {
          "output_type": "execute_result",
          "data": {
            "text/plain": [
              "array(['Manhattan', 'Bronx', 'Brooklyn', 'Staten Island', 'Queens'],\n",
              "      dtype='<U13')"
            ]
          },
          "metadata": {},
          "execution_count": 36
        }
      ]
    },
    {
      "cell_type": "markdown",
      "source": [
        "# View/Shallow Copy\n",
        "When working with arrays, data is copied into new arrays only in some cases. Following are the three possible scenarios:"
      ],
      "metadata": {
        "id": "l1_bMrnOl-0v"
      }
    },
    {
      "cell_type": "code",
      "source": [
        "# In this method, a variable is directly assigned the value of another. No new copy is made\n",
        "Boroughs_in_NYC = NYC_Borough\n",
        "Boroughs_in_NYC # Prints assigned dataset"
      ],
      "metadata": {
        "id": "5zH-9sdUBzDh",
        "colab": {
          "base_uri": "https://localhost:8080/"
        },
        "outputId": "e1533c09-361a-4d9e-eecf-dacc608f2877"
      },
      "execution_count": null,
      "outputs": [
        {
          "output_type": "execute_result",
          "data": {
            "text/plain": [
              "array(['Manhattan', 'Bronx', 'Brooklyn', 'Staten Island', 'Queens'],\n",
              "      dtype='<U13')"
            ]
          },
          "metadata": {},
          "execution_count": 41
        }
      ]
    },
    {
      "cell_type": "code",
      "source": [
        "Boroughs_in_NYC is NYC_Borough"
      ],
      "metadata": {
        "colab": {
          "base_uri": "https://localhost:8080/"
        },
        "id": "e8zYaYnSoUT_",
        "outputId": "33304162-874f-48e6-dbe8-1cd25e4a7a5f"
      },
      "execution_count": null,
      "outputs": [
        {
          "output_type": "execute_result",
          "data": {
            "text/plain": [
              "True"
            ]
          },
          "metadata": {},
          "execution_count": 42
        }
      ]
    },
    {
      "cell_type": "code",
      "source": [
        "len(Boroughs_in_NYC)"
      ],
      "metadata": {
        "colab": {
          "base_uri": "https://localhost:8080/"
        },
        "id": "c28vW0_sEMso",
        "outputId": "419df4cf-b498-40a9-fe3b-e35e6b207bc1"
      },
      "execution_count": null,
      "outputs": [
        {
          "output_type": "execute_result",
          "data": {
            "text/plain": [
              "5"
            ]
          },
          "metadata": {},
          "execution_count": 43
        }
      ]
    },
    {
      "cell_type": "code",
      "source": [
        "Boroughs_in_NYC "
      ],
      "metadata": {
        "colab": {
          "base_uri": "https://localhost:8080/"
        },
        "id": "tuvvbedAoqiY",
        "outputId": "0cc2e402-1df6-419e-ff5e-9f062c9dd107"
      },
      "execution_count": null,
      "outputs": [
        {
          "output_type": "execute_result",
          "data": {
            "text/plain": [
              "array(['Manhattan', 'Bronx', 'Brooklyn', 'Staten Island', 'Queens'],\n",
              "      dtype='<U13')"
            ]
          },
          "metadata": {},
          "execution_count": 44
        }
      ]
    },
    {
      "cell_type": "code",
      "source": [
        "# A view, also referred to as a shallow copy, creates a new array object\n",
        "View_of_Borough_in_NYC = Boroughs_in_NYC.view()"
      ],
      "metadata": {
        "id": "rb812tz2oqde"
      },
      "execution_count": null,
      "outputs": []
    },
    {
      "cell_type": "code",
      "source": [
        "len(Boroughs_in_NYC)"
      ],
      "metadata": {
        "colab": {
          "base_uri": "https://localhost:8080/"
        },
        "id": "vlrHjxo_p-EO",
        "outputId": "06bd42f6-6d36-42ae-a034-595fe60a5e55"
      },
      "execution_count": null,
      "outputs": [
        {
          "output_type": "execute_result",
          "data": {
            "text/plain": [
              "5"
            ]
          },
          "metadata": {},
          "execution_count": 46
        }
      ]
    },
    {
      "cell_type": "code",
      "source": [
        "View_of_Borough_in_NYC[4] = 'Central Park' # Change value in \"view object\"\n",
        "View_of_Borough_in_NYC"
      ],
      "metadata": {
        "id": "VOCJthzlES29",
        "colab": {
          "base_uri": "https://localhost:8080/"
        },
        "outputId": "a3ec165d-c1de-40ba-c55b-02753b8de407"
      },
      "execution_count": null,
      "outputs": [
        {
          "output_type": "execute_result",
          "data": {
            "text/plain": [
              "array(['Manhattan', 'Bronx', 'Brooklyn', 'Staten Island', 'Central Park'],\n",
              "      dtype='<U13')"
            ]
          },
          "metadata": {},
          "execution_count": 47
        }
      ]
    },
    {
      "cell_type": "code",
      "source": [
        "Boroughs_in_NYC # Original dataset is changed"
      ],
      "metadata": {
        "colab": {
          "base_uri": "https://localhost:8080/"
        },
        "id": "jyPg1Au2ESoN",
        "outputId": "c0fa97e3-86c7-4a10-cb1f-680e86555cd2"
      },
      "execution_count": null,
      "outputs": [
        {
          "output_type": "execute_result",
          "data": {
            "text/plain": [
              "array(['Manhattan', 'Bronx', 'Brooklyn', 'Staten Island', 'Central Park'],\n",
              "      dtype='<U13')"
            ]
          },
          "metadata": {},
          "execution_count": 48
        }
      ]
    },
    {
      "cell_type": "markdown",
      "source": [
        "# Deep Copy\n",
        "Copy is also called \"deep copy\" because it entirely copies the original dataset.\n",
        "Any change in the copy will not affect the orginal dataset."
      ],
      "metadata": {
        "id": "ygPW1o6XmJH6"
      }
    },
    {
      "cell_type": "code",
      "source": [
        "Copy_of_NYC_Borough = NYC_Borough.copy()"
      ],
      "metadata": {
        "id": "t4WyeIlZEwa7"
      },
      "execution_count": null,
      "outputs": []
    },
    {
      "cell_type": "code",
      "source": [
        "# Shows \"copy\" and original object are different\n",
        "Copy_of_NYC_Borough is NYC_Borough "
      ],
      "metadata": {
        "colab": {
          "base_uri": "https://localhost:8080/"
        },
        "id": "PKj2PvbTEwX_",
        "outputId": "276b7923-518e-4923-9d09-4f3b7384d9e0"
      },
      "execution_count": null,
      "outputs": [
        {
          "output_type": "execute_result",
          "data": {
            "text/plain": [
              "False"
            ]
          },
          "metadata": {},
          "execution_count": 50
        }
      ]
    },
    {
      "cell_type": "code",
      "source": [
        "# Shows \"copy\" object data is not owned by the original dataset\n",
        "Copy_of_NYC_Borough.base is NYC_Borough "
      ],
      "metadata": {
        "colab": {
          "base_uri": "https://localhost:8080/"
        },
        "id": "-bBY1UnFqk3W",
        "outputId": "8dca7cbc-bf31-4af5-ab49-ee6a952a211d"
      },
      "execution_count": null,
      "outputs": [
        {
          "output_type": "execute_result",
          "data": {
            "text/plain": [
              "False"
            ]
          },
          "metadata": {},
          "execution_count": 51
        }
      ]
    },
    {
      "cell_type": "code",
      "source": [
        "Copy_of_NYC_Borough[4] = 'Astoria' # Change value in \"copy\"\n",
        "NYC_Borough # \"Copy\" object changed"
      ],
      "metadata": {
        "id": "w1yl1E-UEMqL",
        "colab": {
          "base_uri": "https://localhost:8080/"
        },
        "outputId": "1cb8ab01-aaad-40d8-ba41-b7b04dc2c542"
      },
      "execution_count": null,
      "outputs": [
        {
          "output_type": "execute_result",
          "data": {
            "text/plain": [
              "array(['Manhattan', 'Bronx', 'Brooklyn', 'Staten Island', 'Central Park'],\n",
              "      dtype='<U13')"
            ]
          },
          "metadata": {},
          "execution_count": 52
        }
      ]
    },
    {
      "cell_type": "code",
      "source": [
        "Copy_of_NYC_Borough # Original dataset retained"
      ],
      "metadata": {
        "colab": {
          "base_uri": "https://localhost:8080/"
        },
        "id": "cbBEkFcnHJZ_",
        "outputId": "df8158a4-8e20-47b1-ce83-14951476a249"
      },
      "execution_count": null,
      "outputs": [
        {
          "output_type": "execute_result",
          "data": {
            "text/plain": [
              "array(['Manhattan', 'Bronx', 'Brooklyn', 'Staten Island', 'Astoria'],\n",
              "      dtype='<U13')"
            ]
          },
          "metadata": {},
          "execution_count": 53
        }
      ]
    },
    {
      "cell_type": "markdown",
      "source": [
        "#Universal Functions\n",
        "NumPy provides useful mathematical functions called Universal Functions. These functions operate element-wise on an array, producing another array as output."
      ],
      "metadata": {
        "id": "6mqQ7_6XtNgi"
      }
    },
    {
      "cell_type": "code",
      "source": [
        "np_sqrt = np.sqrt([2,4,9,16])\n",
        "np_sqrt"
      ],
      "metadata": {
        "colab": {
          "base_uri": "https://localhost:8080/"
        },
        "id": "RxZMR6gltNeb",
        "outputId": "c5f67c98-f588-44e0-bf31-3bede693e92f"
      },
      "execution_count": null,
      "outputs": [
        {
          "output_type": "execute_result",
          "data": {
            "text/plain": [
              "array([1.41421356, 2.        , 3.        , 4.        ])"
            ]
          },
          "metadata": {},
          "execution_count": 54
        }
      ]
    },
    {
      "cell_type": "code",
      "source": [
        "from numpy import pi"
      ],
      "metadata": {
        "id": "r4eFdEYLtNcB"
      },
      "execution_count": null,
      "outputs": []
    },
    {
      "cell_type": "code",
      "source": [
        "np.cos(0)"
      ],
      "metadata": {
        "colab": {
          "base_uri": "https://localhost:8080/"
        },
        "id": "p4RBgpgjt06A",
        "outputId": "9b3296e8-2f48-4a45-96a4-b6e8f03e34ac"
      },
      "execution_count": null,
      "outputs": [
        {
          "output_type": "execute_result",
          "data": {
            "text/plain": [
              "1.0"
            ]
          },
          "metadata": {},
          "execution_count": 56
        }
      ]
    },
    {
      "cell_type": "code",
      "source": [
        "np.sin(pi/2)"
      ],
      "metadata": {
        "colab": {
          "base_uri": "https://localhost:8080/"
        },
        "id": "t43OGQkht01q",
        "outputId": "eeecac38-884e-4863-fb75-70ee6fa15ab8"
      },
      "execution_count": null,
      "outputs": [
        {
          "output_type": "execute_result",
          "data": {
            "text/plain": [
              "1.0"
            ]
          },
          "metadata": {},
          "execution_count": 57
        }
      ]
    },
    {
      "cell_type": "code",
      "source": [
        "np.cos(pi)"
      ],
      "metadata": {
        "colab": {
          "base_uri": "https://localhost:8080/"
        },
        "id": "0Xvu_RQlt5Rg",
        "outputId": "7776e907-614a-43c0-a38f-f8bb70a960d4"
      },
      "execution_count": null,
      "outputs": [
        {
          "output_type": "execute_result",
          "data": {
            "text/plain": [
              "-1.0"
            ]
          },
          "metadata": {},
          "execution_count": 58
        }
      ]
    },
    {
      "cell_type": "code",
      "source": [
        "np.floor([1.5,1.6,2.7,3.3,1.1,-0.3,-1.4])"
      ],
      "metadata": {
        "colab": {
          "base_uri": "https://localhost:8080/"
        },
        "id": "l6PORWhot5Pb",
        "outputId": "2de14db1-2a15-4a5d-8c91-809221829ed0"
      },
      "execution_count": null,
      "outputs": [
        {
          "output_type": "execute_result",
          "data": {
            "text/plain": [
              "array([ 1.,  1.,  2.,  3.,  1., -1., -2.])"
            ]
          },
          "metadata": {},
          "execution_count": 59
        }
      ]
    },
    {
      "cell_type": "code",
      "source": [
        "np.exp([0,1,5])"
      ],
      "metadata": {
        "colab": {
          "base_uri": "https://localhost:8080/"
        },
        "id": "-Te-xMZHt7t9",
        "outputId": "3a272275-129e-4756-de76-4b88bd7701f4"
      },
      "execution_count": null,
      "outputs": [
        {
          "output_type": "execute_result",
          "data": {
            "text/plain": [
              "array([  1.        ,   2.71828183, 148.4131591 ])"
            ]
          },
          "metadata": {},
          "execution_count": 60
        }
      ]
    },
    {
      "cell_type": "markdown",
      "source": [
        "#Broadcasting Techniques"
      ],
      "metadata": {
        "id": "eusMH_rTTdJG"
      }
    },
    {
      "cell_type": "code",
      "source": [
        "# NumPy uses broadcasting to carry out arithmetic operations between arrays of different shapes. In this method, NumPy automatically broadcasts the smaller array over the larger array. \n",
        "# Create two arrays of the same shape\n",
        "array_a = np.array([2, 3, 5, 8])\n",
        "array_b = np.array([.3, .3, .3, .3])"
      ],
      "metadata": {
        "id": "Y3UOhH8aReG1"
      },
      "execution_count": null,
      "outputs": []
    },
    {
      "cell_type": "code",
      "source": [
        "# Multiply arrays\n",
        "array_a * array_b"
      ],
      "metadata": {
        "colab": {
          "base_uri": "https://localhost:8080/"
        },
        "id": "XOo_7EC1ReT8",
        "outputId": "08721b96-2228-486e-ad05-1bb65db7dd81"
      },
      "execution_count": null,
      "outputs": [
        {
          "output_type": "execute_result",
          "data": {
            "text/plain": [
              "array([0.6, 0.9, 1.5, 2.4])"
            ]
          },
          "metadata": {},
          "execution_count": 62
        }
      ]
    },
    {
      "cell_type": "code",
      "source": [
        "# Create a variable with a scalar value\n",
        "scalar_c = .3"
      ],
      "metadata": {
        "id": "JnmgGKb4ReL8"
      },
      "execution_count": null,
      "outputs": []
    },
    {
      "cell_type": "code",
      "source": [
        "# Multiply 1D array with a scalar value\n",
        "array_a * scalar_c"
      ],
      "metadata": {
        "colab": {
          "base_uri": "https://localhost:8080/"
        },
        "id": "LjbnNfxUSF5d",
        "outputId": "69ff1b7e-c2e0-4e84-fe7c-80f7871f1fb4"
      },
      "execution_count": null,
      "outputs": [
        {
          "output_type": "execute_result",
          "data": {
            "text/plain": [
              "array([0.6, 0.9, 1.5, 2.4])"
            ]
          },
          "metadata": {},
          "execution_count": 64
        }
      ]
    },
    {
      "cell_type": "markdown",
      "source": [
        "#Linear Algebra"
      ],
      "metadata": {
        "id": "l89AjbZ2Tg2l"
      }
    },
    {
      "cell_type": "code",
      "source": [
        "# NumPy can carry out linear algebraic functions as well. \n",
        "# The “transpose()” function can help you interchange rows as columns, and vice-versa.\n",
        "test_scores = np.array([[83,71,57,63], [54,68,81,45]])\n",
        "test_scores.transpose()"
      ],
      "metadata": {
        "colab": {
          "base_uri": "https://localhost:8080/"
        },
        "id": "L4vGXLAiSRjC",
        "outputId": "d4fcf56b-7e0b-421a-a807-5df77e602111"
      },
      "execution_count": null,
      "outputs": [
        {
          "output_type": "execute_result",
          "data": {
            "text/plain": [
              "array([[83, 54],\n",
              "       [71, 68],\n",
              "       [57, 81],\n",
              "       [63, 45]])"
            ]
          },
          "metadata": {},
          "execution_count": 65
        }
      ]
    },
    {
      "cell_type": "code",
      "source": [
        "# Using NumPy, you can also find the inverse of an array and add its diagonal data elements.\n",
        "inverse_array = np.array ([[10,20],[15,25]])\n",
        "np.linalg.inv(inverse_array) # Inverse of given array"
      ],
      "metadata": {
        "colab": {
          "base_uri": "https://localhost:8080/"
        },
        "id": "bTmA2PIySmnf",
        "outputId": "052d6b78-c4f1-4639-eaef-3ef135f8231c"
      },
      "execution_count": null,
      "outputs": [
        {
          "output_type": "execute_result",
          "data": {
            "text/plain": [
              "array([[-0.5,  0.4],\n",
              "       [ 0.3, -0.2]])"
            ]
          },
          "metadata": {},
          "execution_count": 66
        }
      ]
    },
    {
      "cell_type": "code",
      "source": [
        "trace_array = np.array([[10,20],[22,31]])\n",
        "np.trace(trace_array) # Sums elements 10 and 31"
      ],
      "metadata": {
        "colab": {
          "base_uri": "https://localhost:8080/"
        },
        "id": "Nkv6JoomS7P3",
        "outputId": "d9443905-bc2e-4e72-bd79-130f1bd330e3"
      },
      "execution_count": null,
      "outputs": [
        {
          "output_type": "execute_result",
          "data": {
            "text/plain": [
              "41"
            ]
          },
          "metadata": {},
          "execution_count": 67
        }
      ]
    }
  ]
}
