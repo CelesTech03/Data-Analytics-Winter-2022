{
  "nbformat": 4,
  "nbformat_minor": 0,
  "metadata": {
    "colab": {
      "name": "Day 3 For Loops.ipynb",
      "provenance": [],
      "collapsed_sections": [],
      "authorship_tag": "ABX9TyMYnKcE94ApdrO1hIEAa3BY",
      "include_colab_link": true
    },
    "kernelspec": {
      "name": "python3",
      "display_name": "Python 3"
    },
    "language_info": {
      "name": "python"
    }
  },
  "cells": [
    {
      "cell_type": "markdown",
      "metadata": {
        "id": "view-in-github",
        "colab_type": "text"
      },
      "source": [
        "<a href=\"https://colab.research.google.com/github/CelesTech03/Data-Analytics-Winter-2022/blob/main/Python/Week%201/Day_3_For_Loops.ipynb\" target=\"_parent\"><img src=\"https://colab.research.google.com/assets/colab-badge.svg\" alt=\"Open In Colab\"/></a>"
      ]
    },
    {
      "cell_type": "markdown",
      "source": [
        "#For Loops"
      ],
      "metadata": {
        "id": "r-BKSlq36-LE"
      }
    },
    {
      "cell_type": "code",
      "source": [
        "# A for loop can be used to loop through and print the letters in a string.\n",
        "for x in 'CUNY':\n",
        "  print(x)"
      ],
      "metadata": {
        "colab": {
          "base_uri": "https://localhost:8080/"
        },
        "id": "I4GJWRs17CwX",
        "outputId": "3f78c25c-b9d9-4b9d-9831-c0e165e8dfcc"
      },
      "execution_count": null,
      "outputs": [
        {
          "output_type": "stream",
          "name": "stdout",
          "text": [
            "C\n",
            "U\n",
            "N\n",
            "Y\n"
          ]
        }
      ]
    },
    {
      "cell_type": "code",
      "source": [
        "# For loops can also loop through a list of items\n",
        "TV_Shows = ['star trek', 'game of thrones', 'stranger things']\n",
        "# Another way to think about it is: “For every show in the list of tvshows, print the tv show”\n",
        "for show in TV_Shows:\n",
        "  print(show.title() + ' is one of my fave TV shows') #title() capitalizes first letter of word"
      ],
      "metadata": {
        "colab": {
          "base_uri": "https://localhost:8080/"
        },
        "id": "r7rbP1gG7Ct5",
        "outputId": "e1f6f02c-298c-4474-c2d9-ad6318274458"
      },
      "execution_count": null,
      "outputs": [
        {
          "output_type": "stream",
          "name": "stdout",
          "text": [
            "Star Trek is one of my fave TV shows\n",
            "Game Of Thrones is one of my fave TV shows\n",
            "Stranger Things is one of my fave TV shows\n"
          ]
        }
      ]
    },
    {
      "cell_type": "code",
      "source": [
        "fruits = ['Orange', 'Apple', 'Pear', 'Grapes', 'Banana', 'Peach', 'Watermelon']\n",
        "for i in fruits:\n",
        "  print(i.upper() + ' is one of my fave fruits')"
      ],
      "metadata": {
        "colab": {
          "base_uri": "https://localhost:8080/"
        },
        "id": "O393Hzxg7Crn",
        "outputId": "9b5f40ed-d2e3-4ba6-9d8a-c09315521edb"
      },
      "execution_count": null,
      "outputs": [
        {
          "output_type": "stream",
          "name": "stdout",
          "text": [
            "ORANGE is one of my fave fruits\n",
            "APPLE is one of my fave fruits\n",
            "PEAR is one of my fave fruits\n",
            "GRAPES is one of my fave fruits\n",
            "BANANA is one of my fave fruits\n",
            "PEACH is one of my fave fruits\n",
            "WATERMELON is one of my fave fruits\n"
          ]
        }
      ]
    },
    {
      "cell_type": "code",
      "source": [
        "# One useful function is the range() function.  It allows you to quickly print out a series of numbers.\n",
        "for x in range(1,21):\n",
        "  print(x+3)"
      ],
      "metadata": {
        "colab": {
          "base_uri": "https://localhost:8080/"
        },
        "id": "AZm1hIes7Cpf",
        "outputId": "6e8dfb34-76b0-4205-c41c-e72ed20d068c"
      },
      "execution_count": null,
      "outputs": [
        {
          "output_type": "stream",
          "name": "stdout",
          "text": [
            "4\n",
            "5\n",
            "6\n",
            "7\n",
            "8\n",
            "9\n",
            "10\n",
            "11\n",
            "12\n",
            "13\n",
            "14\n",
            "15\n",
            "16\n",
            "17\n",
            "18\n",
            "19\n",
            "20\n",
            "21\n",
            "22\n",
            "23\n"
          ]
        }
      ]
    },
    {
      "cell_type": "code",
      "source": [
        "# The range() function can also be used to make a list [].\n",
        "list(range(1, 21)) "
      ],
      "metadata": {
        "colab": {
          "base_uri": "https://localhost:8080/"
        },
        "id": "v576GPnE7Cm2",
        "outputId": "594de9c8-89c7-4b20-9f82-35728bebd37e"
      },
      "execution_count": null,
      "outputs": [
        {
          "output_type": "execute_result",
          "data": {
            "text/plain": [
              "[1, 2, 3, 4, 5, 6, 7, 8, 9, 10, 11, 12, 13, 14, 15, 16, 17, 18, 19, 20]"
            ]
          },
          "metadata": {},
          "execution_count": 1
        }
      ]
    },
    {
      "cell_type": "code",
      "source": [
        "numbers = list(range(0,11, 2)) # Every other number (2)\n",
        "print(numbers)"
      ],
      "metadata": {
        "colab": {
          "base_uri": "https://localhost:8080/"
        },
        "id": "2WExI3jP7Ck-",
        "outputId": "bb67a867-e40c-4389-b1e8-30e638c41b09"
      },
      "execution_count": null,
      "outputs": [
        {
          "output_type": "stream",
          "name": "stdout",
          "text": [
            "[0, 2, 4, 6, 8, 10]\n"
          ]
        }
      ]
    },
    {
      "cell_type": "code",
      "source": [
        "# You can also perform simple statistics on your list\n",
        "len(numbers)"
      ],
      "metadata": {
        "colab": {
          "base_uri": "https://localhost:8080/"
        },
        "id": "8N_P_lw27CdY",
        "outputId": "dc77b35f-f724-448f-a3d0-bac8c83327d8"
      },
      "execution_count": null,
      "outputs": [
        {
          "output_type": "execute_result",
          "data": {
            "text/plain": [
              "6"
            ]
          },
          "metadata": {},
          "execution_count": 6
        }
      ]
    },
    {
      "cell_type": "code",
      "source": [
        "min(numbers)"
      ],
      "metadata": {
        "colab": {
          "base_uri": "https://localhost:8080/"
        },
        "id": "J9L5ktIyDVWQ",
        "outputId": "10ff774f-0e38-4843-e424-294701e484a7"
      },
      "execution_count": null,
      "outputs": [
        {
          "output_type": "execute_result",
          "data": {
            "text/plain": [
              "0"
            ]
          },
          "metadata": {},
          "execution_count": 7
        }
      ]
    },
    {
      "cell_type": "code",
      "source": [
        "max(numbers)"
      ],
      "metadata": {
        "colab": {
          "base_uri": "https://localhost:8080/"
        },
        "id": "Pk0gpaPNDVT-",
        "outputId": "7bcbae43-7b6a-41a1-8240-eb7b5e55f161"
      },
      "execution_count": null,
      "outputs": [
        {
          "output_type": "execute_result",
          "data": {
            "text/plain": [
              "10"
            ]
          },
          "metadata": {},
          "execution_count": 8
        }
      ]
    },
    {
      "cell_type": "code",
      "source": [
        "sum(numbers)"
      ],
      "metadata": {
        "colab": {
          "base_uri": "https://localhost:8080/"
        },
        "id": "lS5ZDdh0DVR4",
        "outputId": "4a2f978f-0ec7-465d-8844-9808213aebf7"
      },
      "execution_count": null,
      "outputs": [
        {
          "output_type": "execute_result",
          "data": {
            "text/plain": [
              "30"
            ]
          },
          "metadata": {},
          "execution_count": 9
        }
      ]
    },
    {
      "cell_type": "code",
      "source": [
        "# You can slice through your list to print out only certain groups of elements.\n",
        "tvshows = ['star trek', 'game of thrones', 'stranger things', 'big bang theory', 'black mirror']\n",
        "print(tvshows[0:3])\n",
        "print(tvshows[2:4])\n",
        "print(tvshows[:3])\n",
        "print(tvshows[2:])\n",
        "print(tvshows[-2:])"
      ],
      "metadata": {
        "colab": {
          "base_uri": "https://localhost:8080/"
        },
        "id": "YwESkUMpDVPk",
        "outputId": "11832a74-72a0-43a0-a526-ee7e76185c7c"
      },
      "execution_count": null,
      "outputs": [
        {
          "output_type": "stream",
          "name": "stdout",
          "text": [
            "['star trek', 'game of thrones', 'stranger things']\n",
            "['stranger things', 'big bang theory']\n",
            "['star trek', 'game of thrones', 'stranger things']\n",
            "['stranger things', 'big bang theory', 'black mirror']\n",
            "['big bang theory', 'black mirror']\n"
          ]
        }
      ]
    },
    {
      "cell_type": "code",
      "source": [
        "# You can even loop through your slice with a for loop.\n",
        "tvshows = ['star trek', 'game of thrones', 'stranger things', 'big bang theory', 'black mirror']\n",
        "print(\"Some cool TV shows to watch\")\n",
        "for coolshows in tvshows[:2]:\n",
        "  print(coolshows.title())"
      ],
      "metadata": {
        "colab": {
          "base_uri": "https://localhost:8080/"
        },
        "id": "NbHPTEtyxvmg",
        "outputId": "d270505f-f5f9-4519-85c4-c57301149f97"
      },
      "execution_count": null,
      "outputs": [
        {
          "output_type": "stream",
          "name": "stdout",
          "text": [
            "Some cool TV shows to watch\n",
            "Star Trek\n",
            "Game Of Thrones\n"
          ]
        }
      ]
    },
    {
      "cell_type": "code",
      "source": [
        "l = [1,2,3,4,5,6,7,8,9,10,23,5,6,87,98765,345,52,3465,4123,454,90]"
      ],
      "metadata": {
        "id": "ESR5zZjHD1TJ"
      },
      "execution_count": null,
      "outputs": []
    },
    {
      "cell_type": "code",
      "source": [
        "for x in l:\n",
        "  if x % 2 == 0:\n",
        "    print(x)\n",
        "  else:\n",
        "    print(x, 'This is not an even number')"
      ],
      "metadata": {
        "colab": {
          "base_uri": "https://localhost:8080/"
        },
        "id": "YopfcRh0D1QX",
        "outputId": "a820211d-dd91-4bc5-a680-029ec75fa648"
      },
      "execution_count": null,
      "outputs": [
        {
          "output_type": "stream",
          "name": "stdout",
          "text": [
            "1 This is not an even number\n",
            "2\n",
            "3 This is not an even number\n",
            "4\n",
            "5 This is not an even number\n",
            "6\n",
            "7 This is not an even number\n",
            "8\n",
            "9 This is not an even number\n",
            "10\n",
            "23 This is not an even number\n",
            "5 This is not an even number\n",
            "6\n",
            "87 This is not an even number\n",
            "98765 This is not an even number\n",
            "345 This is not an even number\n",
            "52\n",
            "3465 This is not an even number\n",
            "4123 This is not an even number\n",
            "454\n",
            "90\n"
          ]
        }
      ]
    },
    {
      "cell_type": "code",
      "source": [
        "for x in l:\n",
        "  if x % 2 != 0:\n",
        "    print(x)\n",
        "  else:\n",
        "    print(x, 'This is not an odd number')"
      ],
      "metadata": {
        "colab": {
          "base_uri": "https://localhost:8080/"
        },
        "id": "znKTOxjbD1OM",
        "outputId": "61ff75ae-0650-4aed-dc29-8da97db8cb1d"
      },
      "execution_count": null,
      "outputs": [
        {
          "output_type": "stream",
          "name": "stdout",
          "text": [
            "1\n",
            "2 This is not an odd number\n",
            "3\n",
            "4 This is not an odd number\n",
            "5\n",
            "6 This is not an odd number\n",
            "7\n",
            "8 This is not an odd number\n",
            "9\n",
            "10 This is not an odd number\n",
            "23\n",
            "5\n",
            "6 This is not an odd number\n",
            "87\n",
            "98765\n",
            "345\n",
            "52 This is not an odd number\n",
            "3465\n",
            "4123\n",
            "454 This is not an odd number\n",
            "90 This is not an odd number\n"
          ]
        }
      ]
    },
    {
      "cell_type": "code",
      "source": [
        "for letter in 'This is a string':\n",
        "  print(letter)"
      ],
      "metadata": {
        "colab": {
          "base_uri": "https://localhost:8080/"
        },
        "id": "KMhgZ-_hE6Na",
        "outputId": "b6b74299-d32a-4bad-b08e-74177b34637b"
      },
      "execution_count": null,
      "outputs": [
        {
          "output_type": "stream",
          "name": "stdout",
          "text": [
            "T\n",
            "h\n",
            "i\n",
            "s\n",
            " \n",
            "i\n",
            "s\n",
            " \n",
            "a\n",
            " \n",
            "s\n",
            "t\n",
            "r\n",
            "i\n",
            "n\n",
            "g\n"
          ]
        }
      ]
    },
    {
      "cell_type": "code",
      "source": [
        "l2 = [1, 2, 3, 4, 5]"
      ],
      "metadata": {
        "id": "WFfsBRdjIQA8"
      },
      "execution_count": null,
      "outputs": []
    },
    {
      "cell_type": "code",
      "source": [
        "listSum = 0\n",
        "for num in l2:\n",
        "  listSum = listSum + num\n",
        "\n",
        "print(listSum)\n"
      ],
      "metadata": {
        "colab": {
          "base_uri": "https://localhost:8080/"
        },
        "id": "aV01f8K8E6LH",
        "outputId": "db9a029c-8258-4a77-8432-845f4bf9770a"
      },
      "execution_count": null,
      "outputs": [
        {
          "output_type": "stream",
          "name": "stdout",
          "text": [
            "15\n"
          ]
        }
      ]
    },
    {
      "cell_type": "code",
      "source": [
        "dy = {'k1': 1, 'k2': 2, 'k3': 3, 'k4': 4}"
      ],
      "metadata": {
        "id": "LoajolI4E6Ie"
      },
      "execution_count": null,
      "outputs": []
    },
    {
      "cell_type": "code",
      "source": [
        "for item in dy:\n",
        "  print(item)"
      ],
      "metadata": {
        "colab": {
          "base_uri": "https://localhost:8080/"
        },
        "id": "3G9jco--E6GJ",
        "outputId": "8e52b7b6-e6ca-4751-add6-6742ba659745"
      },
      "execution_count": null,
      "outputs": [
        {
          "output_type": "stream",
          "name": "stdout",
          "text": [
            "k1\n",
            "k2\n",
            "k3\n",
            "k4\n"
          ]
        }
      ]
    },
    {
      "cell_type": "code",
      "source": [
        "for i,j in dy.items():\n",
        "  print(i)\n",
        "  print(j)"
      ],
      "metadata": {
        "colab": {
          "base_uri": "https://localhost:8080/"
        },
        "id": "8ZMGf3DmHIc5",
        "outputId": "2a6df224-a31d-44ae-a0e0-e3afb6f4b712"
      },
      "execution_count": null,
      "outputs": [
        {
          "output_type": "stream",
          "name": "stdout",
          "text": [
            "k1\n",
            "1\n",
            "k2\n",
            "2\n",
            "k3\n",
            "3\n",
            "k4\n",
            "4\n"
          ]
        }
      ]
    },
    {
      "cell_type": "markdown",
      "source": [
        "#For Loops Part 2"
      ],
      "metadata": {
        "id": "x6-fMhWhJtDm"
      }
    },
    {
      "cell_type": "code",
      "source": [
        "patient = {\n",
        "    'Name': 'Jack', \n",
        "    'Last Name': 'Sparrow', \n",
        "    'MRN': '001234567', \n",
        "    'DOB': '22231845'\n",
        "}"
      ],
      "metadata": {
        "id": "HrK4ETH4JZwy"
      },
      "execution_count": null,
      "outputs": []
    },
    {
      "cell_type": "code",
      "source": [
        "for x,y in patient.items(): #Items goes through every key value pair\n",
        "  print('\\n x: ' + x)\n",
        "  print('\\n y: ' + y)"
      ],
      "metadata": {
        "colab": {
          "base_uri": "https://localhost:8080/"
        },
        "id": "kmB1OatIJZu2",
        "outputId": "56fcdbb3-085e-4ba3-dbc0-8d74db4b7697"
      },
      "execution_count": null,
      "outputs": [
        {
          "output_type": "stream",
          "name": "stdout",
          "text": [
            "\n",
            " x: Name\n",
            "\n",
            " y: Jack\n",
            "\n",
            " x: Last Name\n",
            "\n",
            " y: Sparrow\n",
            "\n",
            " x: MRN\n",
            "\n",
            " y: 001234567\n",
            "\n",
            " x: DOB\n",
            "\n",
            " y: 22231845\n"
          ]
        }
      ]
    },
    {
      "cell_type": "code",
      "source": [
        "for keys in patient.keys():\n",
        "  print(keys)"
      ],
      "metadata": {
        "colab": {
          "base_uri": "https://localhost:8080/"
        },
        "id": "5nothMP6JZsQ",
        "outputId": "0930d2fd-2c3c-4da9-cc9b-a6f759aeffe2"
      },
      "execution_count": null,
      "outputs": [
        {
          "output_type": "stream",
          "name": "stdout",
          "text": [
            "Name\n",
            "Last Name\n",
            "MRN\n",
            "DOB\n"
          ]
        }
      ]
    },
    {
      "cell_type": "code",
      "source": [
        "for values in patient.values():\n",
        "  print(values)"
      ],
      "metadata": {
        "colab": {
          "base_uri": "https://localhost:8080/"
        },
        "id": "GccC9QtaKDY-",
        "outputId": "2b49c2a1-7dd6-47d6-c5c2-6c8218e2956b"
      },
      "execution_count": null,
      "outputs": [
        {
          "output_type": "stream",
          "name": "stdout",
          "text": [
            "Jack\n",
            "Sparrow\n",
            "001234567\n",
            "22231845\n"
          ]
        }
      ]
    },
    {
      "cell_type": "code",
      "source": [
        "# create a new dictionary to work with keys\n",
        "friends_ages = {\n",
        "    'nick': '30',\n",
        "    'amanda': '34',\n",
        "    'john': '36',\n",
        "    'haley': '26'\n",
        "}"
      ],
      "metadata": {
        "id": "HcJoa-x9KDW3"
      },
      "execution_count": null,
      "outputs": []
    },
    {
      "cell_type": "code",
      "source": [
        "# The whitespace helps Python determine when one code is connected to another line of code.\n",
        "# You’ll notice Python codes are indented are different levels.  These levels help you understand how the program is organized.\n",
        "fav_friends = ['nick', 'amanda']\n",
        "for name in friends_ages.keys():\n",
        "  print(name.title())\n",
        "\n",
        "  if name in fav_friends:\n",
        "    print(\"Hi \" + name.title() + \", I see you're \" + friends_ages[name])"
      ],
      "metadata": {
        "colab": {
          "base_uri": "https://localhost:8080/"
        },
        "id": "HSdrxXQlKDUa",
        "outputId": "c1ee0752-e420-4f83-c337-3f12681100a2"
      },
      "execution_count": null,
      "outputs": [
        {
          "output_type": "stream",
          "name": "stdout",
          "text": [
            "Nick\n",
            "Hi Nick, I see you're 30\n",
            "Amanda\n",
            "Hi Amanda, I see you're 34\n",
            "John\n",
            "Haley\n"
          ]
        }
      ]
    }
  ]
}