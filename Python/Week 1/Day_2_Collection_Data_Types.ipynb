{
  "nbformat": 4,
  "nbformat_minor": 0,
  "metadata": {
    "colab": {
      "name": "Day 2 Collection Data Types.ipynb",
      "provenance": [],
      "collapsed_sections": [],
      "authorship_tag": "ABX9TyMqZoWtciEtHdh/XslM3mRn",
      "include_colab_link": true
    },
    "kernelspec": {
      "name": "python3",
      "display_name": "Python 3"
    },
    "language_info": {
      "name": "python"
    }
  },
  "cells": [
    {
      "cell_type": "markdown",
      "metadata": {
        "id": "view-in-github",
        "colab_type": "text"
      },
      "source": [
        "<a href=\"https://colab.research.google.com/github/CelesTech03/Data-Analytics-Winter-2022/blob/main/Python/Week%201/Day_2_Collection_Data_Types.ipynb\" target=\"_parent\"><img src=\"https://colab.research.google.com/assets/colab-badge.svg\" alt=\"Open In Colab\"/></a>"
      ]
    },
    {
      "cell_type": "markdown",
      "source": [
        "# Collection Data Types\n",
        "List, Dictionaries, Sets & Tuples\n",
        "#Lists"
      ],
      "metadata": {
        "id": "QgX72Bi6OAK2"
      }
    },
    {
      "cell_type": "code",
      "source": [
        "movies = ['star wars', 'star trek', 'lord of the rings', 'avengers']\n",
        "print(movies)"
      ],
      "metadata": {
        "colab": {
          "base_uri": "https://localhost:8080/"
        },
        "id": "b2x0t6-yOHHF",
        "outputId": "0e9f732e-dea5-4254-b2c5-4ff2106a6559"
      },
      "execution_count": null,
      "outputs": [
        {
          "output_type": "stream",
          "name": "stdout",
          "text": [
            "['star wars', 'star trek', 'lord of the rings', 'avengers']\n"
          ]
        }
      ]
    },
    {
      "cell_type": "code",
      "source": [
        "# You can quickly find the last element in a list by using the -1 index.\n",
        "# You can also use –n for findings items from the end of the list.  For example movies[-3]\n",
        "movies[-1]"
      ],
      "metadata": {
        "colab": {
          "base_uri": "https://localhost:8080/",
          "height": 35
        },
        "id": "G9xXlxJrX9jz",
        "outputId": "9e1fdf43-5103-45fd-ed77-8f1998959ec4"
      },
      "execution_count": null,
      "outputs": [
        {
          "output_type": "execute_result",
          "data": {
            "application/vnd.google.colaboratory.intrinsic+json": {
              "type": "string"
            },
            "text/plain": [
              "'avengers'"
            ]
          },
          "metadata": {},
          "execution_count": 3
        }
      ]
    },
    {
      "cell_type": "code",
      "source": [
        "# Each element within a list can be accessed by telling Python its position, or index of the item.\n",
        "# To access the element within the list, write the name of the list followed by the index in square brackets.\n",
        "# Python considers the first item within a list to be at position 0, NOT 1\n",
        "movies[0]"
      ],
      "metadata": {
        "colab": {
          "base_uri": "https://localhost:8080/",
          "height": 35
        },
        "id": "2zhtFMt3OHEQ",
        "outputId": "24ab8a02-4c24-4170-92f9-cb7052a5a9f9"
      },
      "execution_count": null,
      "outputs": [
        {
          "output_type": "execute_result",
          "data": {
            "application/vnd.google.colaboratory.intrinsic+json": {
              "type": "string"
            },
            "text/plain": [
              "'star wars'"
            ]
          },
          "metadata": {},
          "execution_count": 4
        }
      ]
    },
    {
      "cell_type": "code",
      "source": [
        "movies[1]"
      ],
      "metadata": {
        "colab": {
          "base_uri": "https://localhost:8080/",
          "height": 35
        },
        "id": "qIV9ohTaOHCJ",
        "outputId": "a18e886f-0db3-48e5-b98c-1d3ff575e1c0"
      },
      "execution_count": null,
      "outputs": [
        {
          "output_type": "execute_result",
          "data": {
            "application/vnd.google.colaboratory.intrinsic+json": {
              "type": "string"
            },
            "text/plain": [
              "'star trek'"
            ]
          },
          "metadata": {},
          "execution_count": 3
        }
      ]
    },
    {
      "cell_type": "code",
      "source": [
        "movies[2]"
      ],
      "metadata": {
        "colab": {
          "base_uri": "https://localhost:8080/",
          "height": 35
        },
        "id": "etoyDLCqOG_3",
        "outputId": "6623f4b3-2f69-4842-f4ff-a9d5abff3662"
      },
      "execution_count": null,
      "outputs": [
        {
          "output_type": "execute_result",
          "data": {
            "application/vnd.google.colaboratory.intrinsic+json": {
              "type": "string"
            },
            "text/plain": [
              "'lord of the rings'"
            ]
          },
          "metadata": {},
          "execution_count": 4
        }
      ]
    },
    {
      "cell_type": "code",
      "source": [
        "movies[3]"
      ],
      "metadata": {
        "colab": {
          "base_uri": "https://localhost:8080/",
          "height": 35
        },
        "id": "Pa9SCwlXOG9m",
        "outputId": "eaf783bb-f13a-4ba8-a2c9-3d625224194f"
      },
      "execution_count": null,
      "outputs": [
        {
          "output_type": "execute_result",
          "data": {
            "application/vnd.google.colaboratory.intrinsic+json": {
              "type": "string"
            },
            "text/plain": [
              "'avengers'"
            ]
          },
          "metadata": {},
          "execution_count": 5
        }
      ]
    },
    {
      "cell_type": "code",
      "source": [
        "s = \"Hello World\" "
      ],
      "metadata": {
        "id": "8yIjdhvLQON8"
      },
      "execution_count": null,
      "outputs": []
    },
    {
      "cell_type": "code",
      "source": [
        "s"
      ],
      "metadata": {
        "colab": {
          "base_uri": "https://localhost:8080/",
          "height": 35
        },
        "id": "PJOMCalqQOL1",
        "outputId": "21b78506-2104-4a51-b3f6-2a1df718a27b"
      },
      "execution_count": null,
      "outputs": [
        {
          "output_type": "execute_result",
          "data": {
            "application/vnd.google.colaboratory.intrinsic+json": {
              "type": "string"
            },
            "text/plain": [
              "'Hello World'"
            ]
          },
          "metadata": {},
          "execution_count": 8
        }
      ]
    },
    {
      "cell_type": "code",
      "source": [
        "len(s)"
      ],
      "metadata": {
        "colab": {
          "base_uri": "https://localhost:8080/"
        },
        "id": "uBINoij1QOJO",
        "outputId": "1c4063c7-7188-4956-a9f1-9ddfb345c143"
      },
      "execution_count": null,
      "outputs": [
        {
          "output_type": "execute_result",
          "data": {
            "text/plain": [
              "11"
            ]
          },
          "metadata": {},
          "execution_count": 9
        }
      ]
    },
    {
      "cell_type": "code",
      "source": [
        "# How many methods or functions are available for variable. Type variable name and .  Ex: (s.)\n",
        "s.upper()"
      ],
      "metadata": {
        "colab": {
          "base_uri": "https://localhost:8080/",
          "height": 35
        },
        "id": "PNpYAafdQNtF",
        "outputId": "2a397fc1-0822-4262-d775-6748fb8eed78"
      },
      "execution_count": null,
      "outputs": [
        {
          "output_type": "execute_result",
          "data": {
            "application/vnd.google.colaboratory.intrinsic+json": {
              "type": "string"
            },
            "text/plain": [
              "'HELLO WORLD'"
            ]
          },
          "metadata": {},
          "execution_count": 10
        }
      ]
    },
    {
      "cell_type": "code",
      "source": [
        "movies = ['Star Wars', 'Star Trek', 'Lord of The Rings', 'Avengers', 'The Hobbit', 'Fast and Furious']"
      ],
      "metadata": {
        "id": "X4onBBGsQNqo"
      },
      "execution_count": null,
      "outputs": []
    },
    {
      "cell_type": "code",
      "source": [
        "len(movies)"
      ],
      "metadata": {
        "colab": {
          "base_uri": "https://localhost:8080/"
        },
        "id": "FryTeybFQoTY",
        "outputId": "b423311e-846e-4219-c3df-b44b3f66bb08"
      },
      "execution_count": null,
      "outputs": [
        {
          "output_type": "execute_result",
          "data": {
            "text/plain": [
              "6"
            ]
          },
          "metadata": {},
          "execution_count": 12
        }
      ]
    },
    {
      "cell_type": "code",
      "source": [
        "movies[-1] "
      ],
      "metadata": {
        "colab": {
          "base_uri": "https://localhost:8080/",
          "height": 35
        },
        "id": "ALob9ABVQoQn",
        "outputId": "ca5b49e8-8fd9-4d16-b465-75e25385c56a"
      },
      "execution_count": null,
      "outputs": [
        {
          "output_type": "execute_result",
          "data": {
            "application/vnd.google.colaboratory.intrinsic+json": {
              "type": "string"
            },
            "text/plain": [
              "'Fast and Furious'"
            ]
          },
          "metadata": {},
          "execution_count": 14
        }
      ]
    },
    {
      "cell_type": "code",
      "source": [
        "# Creating a list of movies \n",
        "movies = ['Star Wars', 'Star Trek', 'Lord of The Rings', 'Avengers']\n",
        "''' \n",
        " Creating a variable and assigning a couple of things.\n",
        " First I am extracting a movie from my list by indexing through the list.\n",
        " Then, I am applying the built-in method (or function) '.upper()' to the extracted movie from the list.\n",
        " The '.upper()' method simply capitalizes every letter - e.g. word --> WORD\n",
        " Lastly, I am concatinating a string to my extracted movie from the list and then I am concatinating\n",
        " another string at the end.\n",
        "'''\n",
        "message = 'My favorite movie is ' + movies[0].upper() + '!!!'\n",
        "# In this line I am printing the content of my variable 'message' to the screen\n",
        "print(message)  "
      ],
      "metadata": {
        "colab": {
          "base_uri": "https://localhost:8080/"
        },
        "id": "cGlJOatjQoMt",
        "outputId": "b0a6bd5a-6989-433f-bb45-ee8d8164e7f5"
      },
      "execution_count": null,
      "outputs": [
        {
          "output_type": "stream",
          "name": "stdout",
          "text": [
            "My favorite movie is STAR WARS!!!\n"
          ]
        }
      ]
    },
    {
      "cell_type": "code",
      "source": [
        "movies = ['Star Wars', 'Star Trek', 'Lord of The Rings', 'Avengers']\n",
        "movies[1] = 'The Matrix' # Updates the element on index 1\n",
        "print(movies)"
      ],
      "metadata": {
        "id": "R5Ch2eipQoGk",
        "colab": {
          "base_uri": "https://localhost:8080/"
        },
        "outputId": "573454cf-c72b-47e5-db15-027b2f372083"
      },
      "execution_count": null,
      "outputs": [
        {
          "output_type": "stream",
          "name": "stdout",
          "text": [
            "['Star Wars', 'The Matrix', 'Lord of The Rings', 'Avengers']\n"
          ]
        }
      ]
    },
    {
      "cell_type": "code",
      "source": [
        "# Often times, you’ll need to expand your list and add more data.  \n",
        "# Python allows this to be done using a simple method called append().\n",
        "# Append adds the element as the last index\n",
        "movies.append('The Purge') "
      ],
      "metadata": {
        "id": "obAE0PMEQNoN"
      },
      "execution_count": null,
      "outputs": []
    },
    {
      "cell_type": "code",
      "source": [
        "movies"
      ],
      "metadata": {
        "colab": {
          "base_uri": "https://localhost:8080/"
        },
        "id": "QRNS_29DdVCU",
        "outputId": "207a062a-e015-4865-b826-2090b3c8cac1"
      },
      "execution_count": null,
      "outputs": [
        {
          "output_type": "execute_result",
          "data": {
            "text/plain": [
              "['Star Wars', 'The Matrix', 'Lord of The Rings', 'Avengers', 'The Purge']"
            ]
          },
          "metadata": {},
          "execution_count": 28
        }
      ]
    },
    {
      "cell_type": "code",
      "source": [
        "movies.append(\"Home Alone\")\n",
        "movies"
      ],
      "metadata": {
        "colab": {
          "base_uri": "https://localhost:8080/"
        },
        "id": "DAoNiCuzdU_6",
        "outputId": "22df8565-9af7-4f4c-e2c7-7ce18b25cfbe"
      },
      "execution_count": null,
      "outputs": [
        {
          "output_type": "execute_result",
          "data": {
            "text/plain": [
              "['Star Wars',\n",
              " 'The Matrix',\n",
              " 'Lord of The Rings',\n",
              " 'Avengers',\n",
              " 'The Purge',\n",
              " 'Home Alone']"
            ]
          },
          "metadata": {},
          "execution_count": 29
        }
      ]
    },
    {
      "cell_type": "code",
      "source": [
        "# Python also allows you to insert elements into your list.\n",
        "movies.insert(0, 'lion king')\n",
        "print(movies)"
      ],
      "metadata": {
        "colab": {
          "base_uri": "https://localhost:8080/"
        },
        "id": "I9IBXPtSlHqu",
        "outputId": "0246f575-e6f0-4baf-de9f-7fc1df1c055a"
      },
      "execution_count": null,
      "outputs": [
        {
          "output_type": "stream",
          "name": "stdout",
          "text": [
            "['lion king', 'Star Wars', 'The Matrix', 'Lord of The Rings', 'Avengers', 'The Purge', 'Home Alone']\n"
          ]
        }
      ]
    },
    {
      "cell_type": "code",
      "source": [
        "movies2 = ['Speed', 'Archive']"
      ],
      "metadata": {
        "id": "UnUtEWMnYnq4"
      },
      "execution_count": null,
      "outputs": []
    },
    {
      "cell_type": "code",
      "source": [
        "movies.append(movies2)"
      ],
      "metadata": {
        "id": "yPbBCblJYnOx"
      },
      "execution_count": null,
      "outputs": []
    },
    {
      "cell_type": "code",
      "source": [
        "movies"
      ],
      "metadata": {
        "colab": {
          "base_uri": "https://localhost:8080/"
        },
        "id": "jR4TGGX5Yszv",
        "outputId": "b11c7691-a949-463a-8ec7-268f58ec5874"
      },
      "execution_count": null,
      "outputs": [
        {
          "output_type": "execute_result",
          "data": {
            "text/plain": [
              "['lion king',\n",
              " 'Star Wars',\n",
              " 'The Matrix',\n",
              " 'Lord of The Rings',\n",
              " 'Avengers',\n",
              " 'The Purge',\n",
              " 'Home Alone',\n",
              " ['Speed', 'Archive']]"
            ]
          },
          "metadata": {},
          "execution_count": 33
        }
      ]
    },
    {
      "cell_type": "code",
      "source": [
        "# If you know which position the element you want to remove is in, you can use the del statement to remove that element.\n",
        "del movies[2] "
      ],
      "metadata": {
        "id": "OgNv8_B4dU9k"
      },
      "execution_count": null,
      "outputs": []
    },
    {
      "cell_type": "code",
      "source": [
        "movies"
      ],
      "metadata": {
        "id": "C6HYfIIpeKBh",
        "colab": {
          "base_uri": "https://localhost:8080/"
        },
        "outputId": "3038b86d-f9a4-4d11-a0bf-63d9c17c76d1"
      },
      "execution_count": null,
      "outputs": [
        {
          "output_type": "execute_result",
          "data": {
            "text/plain": [
              "['lion king',\n",
              " 'Star Wars',\n",
              " 'Lord of The Rings',\n",
              " 'Avengers',\n",
              " 'The Purge',\n",
              " 'Home Alone',\n",
              " ['Speed', 'Archive']]"
            ]
          },
          "metadata": {},
          "execution_count": 35
        }
      ]
    },
    {
      "cell_type": "code",
      "source": [
        "# You can also remove an element by its value\n",
        "movies.remove('Avengers')\n",
        "movies"
      ],
      "metadata": {
        "colab": {
          "base_uri": "https://localhost:8080/"
        },
        "id": "-jhbQpnmlw4g",
        "outputId": "947cc470-b824-4ad7-fa6f-5c7960e1fd6d"
      },
      "execution_count": null,
      "outputs": [
        {
          "output_type": "execute_result",
          "data": {
            "text/plain": [
              "['lion king',\n",
              " 'Star Wars',\n",
              " 'Lord of The Rings',\n",
              " 'The Purge',\n",
              " 'Home Alone',\n",
              " ['Speed', 'Archive']]"
            ]
          },
          "metadata": {},
          "execution_count": 36
        }
      ]
    },
    {
      "cell_type": "code",
      "source": [
        "# Lists can be sorted using the sort() method. \n",
        "# Sometimes, you don’t want your list to be permanently sorted – you can use the sorted() function to temporarily sort your list.\n",
        "movies.sort() \n",
        "print(movies)"
      ],
      "metadata": {
        "id": "7ZtXdiVGeJ_Q",
        "colab": {
          "base_uri": "https://localhost:8080/"
        },
        "outputId": "ba1d7f49-e04b-4fb6-cd97-1c4acc453c0a"
      },
      "execution_count": null,
      "outputs": [
        {
          "output_type": "stream",
          "name": "stdout",
          "text": [
            "['Avengers', 'Home Alone', 'Star Wars', 'The Matrix', 'The Purge']\n"
          ]
        }
      ]
    },
    {
      "cell_type": "code",
      "source": [
        "# Lists can also be sorted in reverse (Z-A):\n",
        "movies.sort(reverse=True) \n",
        "print(movies)"
      ],
      "metadata": {
        "id": "XRNBmt8peJ8y",
        "colab": {
          "base_uri": "https://localhost:8080/"
        },
        "outputId": "b565f3de-814c-4d7e-dd67-a1053903fd94"
      },
      "execution_count": null,
      "outputs": [
        {
          "output_type": "stream",
          "name": "stdout",
          "text": [
            "['The Purge', 'The Matrix', 'Star Wars', 'Home Alone', 'Avengers']\n"
          ]
        }
      ]
    },
    {
      "cell_type": "code",
      "source": [
        "# Convert a integer number into Binary, Octal and Hexadecimal\n",
        "num = int(input(\"Enter number: \"))\n",
        "\n",
        "print(f'Binary value is {bin(num)}')\n",
        "print(f'Octal value is {oct(num)}')\n",
        "print(f'Hexadecimal value is {hex(num)}')\n",
        "\n",
        "print(f'Binary value is {bin(num)}, Octal value is {oct(num)}, Hexadecimal value is {hex(num)}')"
      ],
      "metadata": {
        "colab": {
          "base_uri": "https://localhost:8080/"
        },
        "id": "ot-m_Ow-ZNf_",
        "outputId": "ebc830ed-6421-45df-f464-083ca21f46c4"
      },
      "execution_count": null,
      "outputs": [
        {
          "output_type": "stream",
          "name": "stdout",
          "text": [
            "Enter number: 500\n",
            "Binary value is 0b111110100\n",
            "Octal value is 0o764\n",
            "Hexadecimal value is 0x1f4\n",
            "Binary value is 0b111110100, Octal value is 0o764, Hexadecimal value is 0x1f4\n"
          ]
        }
      ]
    }
  ]
}