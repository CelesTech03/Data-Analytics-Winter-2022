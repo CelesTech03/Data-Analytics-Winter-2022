{
  "nbformat": 4,
  "nbformat_minor": 0,
  "metadata": {
    "colab": {
      "name": "Day 4 Functions.ipynb",
      "provenance": [],
      "collapsed_sections": [],
      "authorship_tag": "ABX9TyPgL5j3jauV1CHr64C59w5c",
      "include_colab_link": true
    },
    "kernelspec": {
      "name": "python3",
      "display_name": "Python 3"
    },
    "language_info": {
      "name": "python"
    }
  },
  "cells": [
    {
      "cell_type": "markdown",
      "metadata": {
        "id": "view-in-github",
        "colab_type": "text"
      },
      "source": [
        "<a href=\"https://colab.research.google.com/github/CelesTech03/Data-Analytics-Winter-2022/blob/main/Python/Day_4_Functions.ipynb\" target=\"_parent\"><img src=\"https://colab.research.google.com/assets/colab-badge.svg\" alt=\"Open In Colab\"/></a>"
      ]
    },
    {
      "cell_type": "markdown",
      "source": [
        "#Functions\n",
        "So what is a function?\n",
        "\n",
        "Formally, a function is a useful device that groups together a set of statements so they can be run more than once. They can also let us specify parameters that can serve as inputs to the functions.\n",
        "\n",
        "On a more fundamental level, functions allow us to not have to repeatedly write the same code again and again. If you remember back to the lessons on strings and lists, remember that we used a function len() to get the length of a string. Since checking the length of a sequence is a common task you would want to write a function that can do this repeatedly at command.\n",
        "\n",
        "Functions will be one of most basic levels of reusing code in Python, and it will also allow us to start thinking of program design (we will dive much deeper into the ideas of design when we learn about Object Oriented Programming)."
      ],
      "metadata": {
        "id": "-iPr-21UyMC1"
      }
    },
    {
      "cell_type": "code",
      "source": [
        "def name_of_function(arg1,arg2):\n",
        "    '''\n",
        "    This is where the function's Document String (doc-string) goes\n",
        "    '''\n",
        "    # Do stuff here\n",
        "    #return desired result"
      ],
      "metadata": {
        "id": "agiic4AI0ZX5"
      },
      "execution_count": 18,
      "outputs": []
    },
    {
      "cell_type": "code",
      "source": [
        "\"\"\"\n",
        "Naming convention for coding\n",
        "camelCase\n",
        "PastalCase\n",
        "_variable\n",
        "\n",
        "name_of_function()\n",
        "any_name_you_want()\n",
        "\n",
        "cars = ['oranges', 'bananas']\n",
        "temp_conv()\n",
        "\"\"\""
      ],
      "metadata": {
        "id": "Mtu5aEKz2Xp6",
        "colab": {
          "base_uri": "https://localhost:8080/",
          "height": 35
        },
        "outputId": "45ea6254-153b-4a7d-850f-4d44be9f9197"
      },
      "execution_count": 19,
      "outputs": [
        {
          "output_type": "execute_result",
          "data": {
            "application/vnd.google.colaboratory.intrinsic+json": {
              "type": "string"
            },
            "text/plain": [
              "\"\\nNaming convention for coding\\ncamelCase\\nPastalCase\\n_variable\\n\\nname_of_function()\\nany_name_you_want()\\n\\ncars = ['oranges', 'bananas']\\ntemp_conv()\\n\""
            ]
          },
          "metadata": {},
          "execution_count": 19
        }
      ]
    },
    {
      "cell_type": "code",
      "source": [
        "# The first line defines our function, called greeting(), using the def keyword.\n",
        "def greeting():\n",
        "# Indented lines that follow after make up the body of the function.\n",
        "  \"\"\"\n",
        "  Author: Who did this function\n",
        "  Input: What arguments the function takes\n",
        "  Output: This function displays a greeting\n",
        "  \"\"\"\n",
        "  print(\"Hello There!\")\n",
        "\n",
        "greeting()"
      ],
      "metadata": {
        "colab": {
          "base_uri": "https://localhost:8080/"
        },
        "id": "izptJmQpzeUX",
        "outputId": "661dc7e1-c2d4-4868-ad2a-1b880fc69c0c"
      },
      "execution_count": 20,
      "outputs": [
        {
          "output_type": "stream",
          "name": "stdout",
          "text": [
            "Hello There!\n"
          ]
        }
      ]
    },
    {
      "cell_type": "code",
      "source": [
        "# The Python help function is used to display the documentation of modules, functions, classes, keywords, etc. \n",
        "help(greeting)"
      ],
      "metadata": {
        "colab": {
          "base_uri": "https://localhost:8080/"
        },
        "id": "UisDbQtV4VT9",
        "outputId": "2be2104f-0195-4779-848f-84ae69bd8900"
      },
      "execution_count": 21,
      "outputs": [
        {
          "output_type": "stream",
          "name": "stdout",
          "text": [
            "Help on function greeting in module __main__:\n",
            "\n",
            "greeting()\n",
            "    Author: Who did this function\n",
            "    Input: What arguments the function takes\n",
            "    Output: This function displays a greeting\n",
            "\n"
          ]
        }
      ]
    },
    {
      "cell_type": "code",
      "source": [
        "def greeting(name):\n",
        "  \"\"\"This function displays a greeting\"\"\"\n",
        "  print(\"hello there, \" + name + \"!\")\n",
        "\n",
        "greeting('Haley')"
      ],
      "metadata": {
        "colab": {
          "base_uri": "https://localhost:8080/"
        },
        "id": "NBeKsVH0zeRj",
        "outputId": "d55c6a36-268b-4928-eb6d-0149ff5b0414"
      },
      "execution_count": 22,
      "outputs": [
        {
          "output_type": "stream",
          "name": "stdout",
          "text": [
            "hello there, Haley!\n"
          ]
        }
      ]
    },
    {
      "cell_type": "code",
      "source": [
        "# Addition function\n",
        "def add_num(x, y):\n",
        "  return x + y\n",
        "\n",
        "add_num(3, 6)"
      ],
      "metadata": {
        "colab": {
          "base_uri": "https://localhost:8080/"
        },
        "id": "YGpa520I9Fnk",
        "outputId": "1c9b09dd-6593-4d09-8610-922393a8b4a4"
      },
      "execution_count": 23,
      "outputs": [
        {
          "output_type": "execute_result",
          "data": {
            "text/plain": [
              "9"
            ]
          },
          "metadata": {},
          "execution_count": 23
        }
      ]
    },
    {
      "cell_type": "code",
      "source": [
        "add_num('d', 'g')"
      ],
      "metadata": {
        "colab": {
          "base_uri": "https://localhost:8080/",
          "height": 35
        },
        "id": "aos15Flx9Fjm",
        "outputId": "355e413e-e3ee-4b15-d64b-a802d80659f4"
      },
      "execution_count": 24,
      "outputs": [
        {
          "output_type": "execute_result",
          "data": {
            "application/vnd.google.colaboratory.intrinsic+json": {
              "type": "string"
            },
            "text/plain": [
              "'dg'"
            ]
          },
          "metadata": {},
          "execution_count": 24
        }
      ]
    },
    {
      "cell_type": "code",
      "source": [
        "# Subtraction function\n",
        "def subtract(x, y):\n",
        "  return x - y\n",
        "\n",
        "subtract(10, 4)"
      ],
      "metadata": {
        "colab": {
          "base_uri": "https://localhost:8080/"
        },
        "id": "LDShMEO-9Zxv",
        "outputId": "7f0cabe6-29cc-4aa6-81df-99e4354753ee"
      },
      "execution_count": 25,
      "outputs": [
        {
          "output_type": "execute_result",
          "data": {
            "text/plain": [
              "6"
            ]
          },
          "metadata": {},
          "execution_count": 25
        }
      ]
    },
    {
      "cell_type": "markdown",
      "source": [
        "# Write a simple calculator"
      ],
      "metadata": {
        "id": "EjdmA1LyfNmP"
      }
    },
    {
      "cell_type": "code",
      "source": [
        "# Simple Calculator\n",
        "\n",
        "def add(x, y): \n",
        "   return x + y\n",
        " \n",
        "def subtract(x, y):\n",
        "   return x - y\n",
        " \n",
        "def multiply(x, y):\n",
        "   return x * y\n",
        " \n",
        "def divide(x, y):\n",
        "   return x / y\n",
        " \n",
        "# Take input from the user\n",
        "\n",
        "print(\"Select operation \")\n",
        "print(\"1: Add\")\n",
        "print(\"2: Subtract\")\n",
        "print(\"3: Multiply\")\n",
        "print(\"4: Divide\")\n",
        " \n",
        "choice = input(\"Enter choice(1/2/3/4):\")\n",
        " \n",
        "num1 = int(input(\"Enter first number: \"))\n",
        "num2 = int(input(\"Enter second number: \"))\n",
        " \n",
        "if choice == '1':\n",
        "   print(num1,\"+\",num2,\"=\", add(num1,num2))\n",
        " \n",
        "elif choice == '2':\n",
        "   print(num1,\"-\",num2,\"=\", subtract(num1,num2))\n",
        " \n",
        "elif choice == '3':\n",
        "   print(num1,\"*\",num2,\"=\", multiply(num1,num2))\n",
        " \n",
        "elif choice == '4':\n",
        "   print(num1,\"/\",num2,\"=\", divide(num1,num2))\n",
        "else:\n",
        "   print(\"Invalid input\")"
      ],
      "metadata": {
        "colab": {
          "base_uri": "https://localhost:8080/"
        },
        "id": "s_FUVu3pfPiB",
        "outputId": "ee49717b-d29c-4715-dda7-a4dd5061c96f"
      },
      "execution_count": 9,
      "outputs": [
        {
          "output_type": "stream",
          "name": "stdout",
          "text": [
            "Select operation \n",
            "1: Add\n",
            "2: Subtract\n",
            "3: Multiply\n",
            "4: Divide\n",
            "Enter choice(1/2/3/4):1\n",
            "Enter first number: 20\n",
            "Enter second number: 30\n",
            "20 + 30 = 50\n"
          ]
        }
      ]
    },
    {
      "cell_type": "code",
      "source": [
        "# When a function is called, Python matches each argument in a function with a parameters in the definition.\n",
        "def greeting_2(first_name, last_name):\n",
        "  \"\"\"Greets someone by first and last name\"\"\"\n",
        "  print(\"Hello there, \"+ first_name + \" \" + last_name)\n",
        "\n",
        "greeting_2('Paul', 'John')"
      ],
      "metadata": {
        "colab": {
          "base_uri": "https://localhost:8080/"
        },
        "id": "sV_emXb33d_S",
        "outputId": "48a24463-b7d6-41d2-e13c-b8e3ae04dea5"
      },
      "execution_count": 10,
      "outputs": [
        {
          "output_type": "stream",
          "name": "stdout",
          "text": [
            "Hello there, Paul John\n"
          ]
        }
      ]
    },
    {
      "cell_type": "code",
      "source": [
        "def greeting(fname, lname, age):\n",
        "  print(f'Hi there {fname}, {lname} ... You are {age} years old')\n",
        "\n",
        "greeting('General', 'Kenobi', 85)"
      ],
      "metadata": {
        "colab": {
          "base_uri": "https://localhost:8080/"
        },
        "id": "4_q0AORxeIAr",
        "outputId": "349586f3-1871-4519-eec7-95b797499774"
      },
      "execution_count": 11,
      "outputs": [
        {
          "output_type": "stream",
          "name": "stdout",
          "text": [
            "Hi there General, Kenobi ... You are 85 years old\n"
          ]
        }
      ]
    },
    {
      "cell_type": "code",
      "source": [
        "def greeting_2(first_name, last_name, age):\n",
        "  \"\"\"Greets someone by first and last name\"\"\"\n",
        "  print(\"Hello there, \"+ first_name + \" \" + last_name)\n",
        "  print(\"I am \" + str(age) + \", years old\")\n",
        "\n",
        "greeting_2('Paul', 'John', 43)"
      ],
      "metadata": {
        "colab": {
          "base_uri": "https://localhost:8080/"
        },
        "id": "t02CjxSp3d3u",
        "outputId": "f047b3c8-ba88-4252-c56e-282eb05f2d8f"
      },
      "execution_count": 12,
      "outputs": [
        {
          "output_type": "stream",
          "name": "stdout",
          "text": [
            "Hello there, Paul John\n",
            "I am 43, years old\n"
          ]
        }
      ]
    },
    {
      "cell_type": "code",
      "source": [
        "# Multiple function calls\n",
        "def greeting_2(first_name, last_name, age):\n",
        "  \"\"\"Greets someone by first and last name\"\"\"\n",
        "  print(\"Hello there, \"+ first_name + \" \" + last_name)\n",
        "  print(\"I am \" + str(age) + \", years old\")\n",
        "\n",
        "greeting_2('Paul', 'John', 43)\n",
        "greeting_2('Sparky', 'Jack', 76)"
      ],
      "metadata": {
        "colab": {
          "base_uri": "https://localhost:8080/"
        },
        "id": "bE7yyIs3zDsS",
        "outputId": "1076a116-71f7-4daf-da5c-ef08e083ff48"
      },
      "execution_count": 13,
      "outputs": [
        {
          "output_type": "stream",
          "name": "stdout",
          "text": [
            "Hello there, Paul John\n",
            "I am 43, years old\n",
            "Hello there, Sparky Jack\n",
            "I am 76, years old\n"
          ]
        }
      ]
    },
    {
      "cell_type": "code",
      "source": [
        "# Python stores arguments in parameters in the order you’ve defined them. \n",
        "# UNLESS YOU DEFINE THEM!\n",
        "def greeting_2(first_name, last_name, age):\n",
        "  \"\"\"Greets someone by first and last name\"\"\"\n",
        "  print(\"Hello there, \"+ first_name + \" \" + last_name)\n",
        "  print(\"I am \" + str(age) + \", years old\")\n",
        "\n",
        "greeting_2(first_name = 'Paul', last_name =  'John', age = 43)\n",
        "greeting_2(age = 43, first_name = 'Paul', last_name = 'John')"
      ],
      "metadata": {
        "colab": {
          "base_uri": "https://localhost:8080/"
        },
        "id": "IICuL1CwzDpz",
        "outputId": "7f9e333f-ca01-4ba1-aa1c-d2e70a611778"
      },
      "execution_count": 14,
      "outputs": [
        {
          "output_type": "stream",
          "name": "stdout",
          "text": [
            "Hello there, Paul John\n",
            "I am 43, years old\n",
            "Hello there, Paul John\n",
            "I am 43, years old\n"
          ]
        }
      ]
    },
    {
      "cell_type": "code",
      "source": [
        "# Default Values\n",
        "def greeting_2(first_name, last_name, age = 23): # Age is a default value\n",
        "  \"\"\"Greets someone by first and last name\"\"\"\n",
        "  print(\"Hello there, \"+ first_name + \" \" + last_name)\n",
        "  print(\"I am \" + str(age) + \", years old\")\n",
        "\n",
        "greeting_2(first_name = 'Paul', last_name =  'John')\n",
        "greeting_2(age = 43, first_name = 'Paul', last_name = 'John')"
      ],
      "metadata": {
        "colab": {
          "base_uri": "https://localhost:8080/"
        },
        "id": "bTJX2yYp7-vM",
        "outputId": "d2fa69ee-4655-4c8e-b099-8a5d67abf5b7"
      },
      "execution_count": 15,
      "outputs": [
        {
          "output_type": "stream",
          "name": "stdout",
          "text": [
            "Hello there, Paul John\n",
            "I am 23, years old\n",
            "Hello there, Paul John\n",
            "I am 43, years old\n"
          ]
        }
      ]
    },
    {
      "cell_type": "code",
      "source": [
        "def greeting3(name='Mark'):\n",
        "  print(f'Hi there {name}')\n",
        "\n",
        "greeting3('Peter')"
      ],
      "metadata": {
        "colab": {
          "base_uri": "https://localhost:8080/"
        },
        "id": "V47RzagQfol1",
        "outputId": "bc1d5eaf-6002-42e9-81c7-eb62b0d4615c"
      },
      "execution_count": 16,
      "outputs": [
        {
          "output_type": "stream",
          "name": "stdout",
          "text": [
            "Hi there Peter\n"
          ]
        }
      ]
    },
    {
      "cell_type": "code",
      "source": [
        "greeting3()"
      ],
      "metadata": {
        "colab": {
          "base_uri": "https://localhost:8080/"
        },
        "id": "Xc0IvR7-fx4X",
        "outputId": "393a61ce-f0c8-4970-dae6-11bed8610e8a"
      },
      "execution_count": 17,
      "outputs": [
        {
          "output_type": "stream",
          "name": "stdout",
          "text": [
            "Hi there Mark\n"
          ]
        }
      ]
    },
    {
      "cell_type": "markdown",
      "source": [
        "# Write a function that checks if a number is prime "
      ],
      "metadata": {
        "id": "uhjj2expgjdh"
      }
    },
    {
      "cell_type": "code",
      "source": [
        "def prime_num(num):\n",
        "  if num > 1:\n",
        "# A prime number is an integer, or whole number, that has only two factors — 1 and itself. \n",
        "    for n in range(2, num):\n",
        "      if(num % n) == 0:\n",
        "            print(f\"{num} is not a prime number.\")\n",
        "            return False\n",
        "    print(f\"{num} is a prime number.\")\n",
        "    return True\n",
        "\n",
        "prime_num(121)"
      ],
      "metadata": {
        "colab": {
          "base_uri": "https://localhost:8080/"
        },
        "id": "vK8Yhn8Pglg9",
        "outputId": "462dc27a-74d3-4a4f-f3cb-452d8966d6e8"
      },
      "execution_count": 26,
      "outputs": [
        {
          "output_type": "stream",
          "name": "stdout",
          "text": [
            "121 is not a prime number.\n"
          ]
        },
        {
          "output_type": "execute_result",
          "data": {
            "text/plain": [
              "False"
            ]
          },
          "metadata": {},
          "execution_count": 26
        }
      ]
    }
  ]
}
