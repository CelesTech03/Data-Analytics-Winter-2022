{
  "nbformat": 4,
  "nbformat_minor": 0,
  "metadata": {
    "colab": {
      "name": "Day 3 Collection Data Types - Dictionaries.ipynb",
      "provenance": [],
      "collapsed_sections": [],
      "authorship_tag": "ABX9TyNl+CTFNC06irExHp6PFUSt",
      "include_colab_link": true
    },
    "kernelspec": {
      "name": "python3",
      "display_name": "Python 3"
    },
    "language_info": {
      "name": "python"
    }
  },
  "cells": [
    {
      "cell_type": "markdown",
      "metadata": {
        "id": "view-in-github",
        "colab_type": "text"
      },
      "source": [
        "<a href=\"https://colab.research.google.com/github/CelesTech03/Data-Analytics-Winter-2022/blob/main/Python/Week%201/Day_3_Collection_Data_Types_Dictionaries.ipynb\" target=\"_parent\"><img src=\"https://colab.research.google.com/assets/colab-badge.svg\" alt=\"Open In Colab\"/></a>"
      ]
    },
    {
      "cell_type": "markdown",
      "source": [
        "#Dictionaries"
      ],
      "metadata": {
        "id": "DaOhCcrXvfe2"
      }
    },
    {
      "cell_type": "code",
      "execution_count": null,
      "metadata": {
        "colab": {
          "base_uri": "https://localhost:8080/"
        },
        "id": "I-GbgPd2sc1r",
        "outputId": "052cfff3-c9c8-46f7-84e1-df6a2ccb8d19"
      },
      "outputs": [
        {
          "output_type": "stream",
          "name": "stdout",
          "text": [
            "John\n",
            "Kimble\n"
          ]
        }
      ],
      "source": [
        "# Python Dictionaries are wrapped in braces, {}. With their key-value pairs inside the braces.\n",
        "patient_1 = {'first_name': 'John', 'last_name' : 'Kimble'}\n",
        "print(patient_1['first_name'])\n",
        "print(patient_1['last_name'])"
      ]
    },
    {
      "cell_type": "code",
      "source": [
        "# To get the value associated with a key: give the name of the dictionary and place the key inside a set of square brackets\n",
        "patient_name = patient_1['first_name']\n",
        "print(\"hello there, \" + patient_name)"
      ],
      "metadata": {
        "colab": {
          "base_uri": "https://localhost:8080/"
        },
        "id": "AYOTbxqLu6nj",
        "outputId": "cbb104e0-642a-4f4f-bf3d-f91c1db0e0a3"
      },
      "execution_count": null,
      "outputs": [
        {
          "output_type": "stream",
          "name": "stdout",
          "text": [
            "hello there, John\n"
          ]
        }
      ]
    },
    {
      "cell_type": "code",
      "source": [
        "# To start filling an empty dictionary, first define a dictionary\n",
        "patient_2 = {}\n",
        "# Then, add each key-value pair on its own line.\n",
        "patient_2['first_name'] = 'John'\n",
        "patient_2['last name'] = 'Wick'\n",
        "patient_2"
      ],
      "metadata": {
        "colab": {
          "base_uri": "https://localhost:8080/"
        },
        "id": "ruq6LBzAu6lQ",
        "outputId": "066bf46c-4ae5-41a1-d031-a24e1a154ad4"
      },
      "execution_count": null,
      "outputs": [
        {
          "output_type": "execute_result",
          "data": {
            "text/plain": [
              "{'first_name': 'John', 'last name': 'Wick'}"
            ]
          },
          "metadata": {},
          "execution_count": 5
        }
      ]
    },
    {
      "cell_type": "code",
      "source": [
        "# To modify a value,, give the name of the dictionary with the key\n",
        "# in [ ]’s and then the new value you want associated with that key.\n",
        "patient_2['Fruits'] = 'Orange'\n",
        "patient_2['Object'] = 'Floor'\n",
        "patient_2"
      ],
      "metadata": {
        "colab": {
          "base_uri": "https://localhost:8080/"
        },
        "id": "0iz8WHAiu6im",
        "outputId": "5ee43a78-44ff-4616-8166-4867aa65b06f"
      },
      "execution_count": null,
      "outputs": [
        {
          "output_type": "execute_result",
          "data": {
            "text/plain": [
              "{'Fruits': 'Orange',\n",
              " 'Object': 'Floor',\n",
              " 'first_name': 'John',\n",
              " 'last name': 'Wick'}"
            ]
          },
          "metadata": {},
          "execution_count": 10
        }
      ]
    },
    {
      "cell_type": "code",
      "source": [
        "# You can use the del statement to completely remove a key-value pair – this is permanent. \n",
        "del patient_2['Object']\n",
        "patient_2"
      ],
      "metadata": {
        "colab": {
          "base_uri": "https://localhost:8080/"
        },
        "id": "zZQUS2Klu6gM",
        "outputId": "07d941e8-82fc-42ef-a4b9-286f11291333"
      },
      "execution_count": null,
      "outputs": [
        {
          "output_type": "execute_result",
          "data": {
            "text/plain": [
              "{'Fruits': 'Orange', 'first_name': 'John', 'last name': 'Wick'}"
            ]
          },
          "metadata": {},
          "execution_count": 11
        }
      ]
    },
    {
      "cell_type": "code",
      "source": [
        "patient_2['Object'] = ['fruits', 12, 2.4, 'strings']\n",
        "patient_2"
      ],
      "metadata": {
        "colab": {
          "base_uri": "https://localhost:8080/"
        },
        "id": "wdRoMQGNwccO",
        "outputId": "d02cb539-97ec-47af-992b-36d97350664f"
      },
      "execution_count": null,
      "outputs": [
        {
          "output_type": "execute_result",
          "data": {
            "text/plain": [
              "{'Fruits': 'Orange',\n",
              " 'Object': ['fruits', 12, 2.4, 'strings'],\n",
              " 'first_name': 'John',\n",
              " 'last name': 'Wick'}"
            ]
          },
          "metadata": {},
          "execution_count": 12
        }
      ]
    },
    {
      "cell_type": "code",
      "source": [
        "del patient_2['Object']\n",
        "patient_2"
      ],
      "metadata": {
        "colab": {
          "base_uri": "https://localhost:8080/"
        },
        "id": "vlJxE14RwcYL",
        "outputId": "50d01bee-322a-45bc-bd04-b6394c282c56"
      },
      "execution_count": null,
      "outputs": [
        {
          "output_type": "execute_result",
          "data": {
            "text/plain": [
              "{'Fruits': 'Orange', 'first_name': 'John', 'last name': 'Wick'}"
            ]
          },
          "metadata": {},
          "execution_count": 13
        }
      ]
    },
    {
      "cell_type": "code",
      "source": [
        "patient_2['Object'] = ['fruits', 12, 2.4, 'strings']\n",
        "patient_2['Object'][0][2] #Index the first element of the list"
      ],
      "metadata": {
        "colab": {
          "base_uri": "https://localhost:8080/",
          "height": 35
        },
        "id": "oiyx_yAExPQv",
        "outputId": "ccb492e2-d50e-4611-ad80-48889daafef2"
      },
      "execution_count": null,
      "outputs": [
        {
          "output_type": "execute_result",
          "data": {
            "application/vnd.google.colaboratory.intrinsic+json": {
              "type": "string"
            },
            "text/plain": [
              "'u'"
            ]
          },
          "metadata": {},
          "execution_count": 18
        }
      ]
    },
    {
      "cell_type": "code",
      "source": [
        "patient_2['Object'][0].upper()"
      ],
      "metadata": {
        "colab": {
          "base_uri": "https://localhost:8080/",
          "height": 35
        },
        "id": "Nof3AOnHxPOP",
        "outputId": "fe3acda5-3237-4b25-e7b1-f7483f84fcfc"
      },
      "execution_count": null,
      "outputs": [
        {
          "output_type": "execute_result",
          "data": {
            "application/vnd.google.colaboratory.intrinsic+json": {
              "type": "string"
            },
            "text/plain": [
              "'FRUITS'"
            ]
          },
          "metadata": {},
          "execution_count": 19
        }
      ]
    },
    {
      "cell_type": "code",
      "source": [
        "# Dictionaries can store lots of information about the object, easily:\n",
        "patient_3 = {\n",
        "  'Name': 'Jack', \n",
        "  'Last Name': 'Sparrow', \n",
        "  'MRN': '001234567', \n",
        "  'DOB': '22231845'\n",
        "}\n",
        "patient_3"
      ],
      "metadata": {
        "colab": {
          "base_uri": "https://localhost:8080/"
        },
        "id": "UTPxGWO8xPL1",
        "outputId": "e438fde9-ab7c-4f81-fbe7-df111d619c0b"
      },
      "execution_count": null,
      "outputs": [
        {
          "output_type": "execute_result",
          "data": {
            "text/plain": [
              "{'DOB': '22231845', 'Last Name': 'Sparrow', 'MRN': '001234567', 'Name': 'Jack'}"
            ]
          },
          "metadata": {},
          "execution_count": 1
        }
      ]
    },
    {
      "cell_type": "code",
      "source": [
        "# LOOPING: First you create a for loop for your dictionary.\n",
        "# The next part includes the name of the dictionary, \n",
        "# plus the items() method – which returns a list of key-value pairs.\n",
        "for key, value in patient_3.items():\n",
        "  print(\"\\nKey: \" + key)\n",
        "  print(\"\\nValue: \" + value)"
      ],
      "metadata": {
        "colab": {
          "base_uri": "https://localhost:8080/"
        },
        "id": "GrLZUHLq02DI",
        "outputId": "56147baf-6bd8-465b-98eb-32f78aaed597"
      },
      "execution_count": null,
      "outputs": [
        {
          "output_type": "stream",
          "name": "stdout",
          "text": [
            "\n",
            "Key: Name\n",
            "\n",
            "Value: Jack\n",
            "\n",
            "Key: Last Name\n",
            "\n",
            "Value: Sparrow\n",
            "\n",
            "Key: MRN\n",
            "\n",
            "Value: 001234567\n",
            "\n",
            "Key: DOB\n",
            "\n",
            "Value: 22231845\n"
          ]
        }
      ]
    },
    {
      "cell_type": "code",
      "source": [
        "# The keys() method is useful for when you only need to use the key portion of your dictionary.\n",
        "for keys in patient_3.keys():\n",
        "  print(keys)"
      ],
      "metadata": {
        "colab": {
          "base_uri": "https://localhost:8080/"
        },
        "id": "XtDK2e7Y2P7_",
        "outputId": "14ba92fa-66f7-4462-c1e0-2919ec99a496"
      },
      "execution_count": null,
      "outputs": [
        {
          "output_type": "stream",
          "name": "stdout",
          "text": [
            "Name\n",
            "Last Name\n",
            "MRN\n",
            "DOB\n"
          ]
        }
      ]
    },
    {
      "cell_type": "code",
      "source": [
        "# Lets create a new dictionary to work with keys\n",
        "friends_ages = {\n",
        "    'nick': '30',\n",
        "    'amanda': '34',\n",
        "    'john': '36',\n",
        "    'haley': '26',\n",
        "}\n",
        "fav_friends = ['nick', 'amanda']\n",
        "for name in friends_ages.keys():\n",
        "  print(name.title())\n",
        "\n",
        "  if name in fav_friends:\n",
        "    print(\"Hi \" + name.title() + \", I see you're \" + friends_ages[name])"
      ],
      "metadata": {
        "colab": {
          "base_uri": "https://localhost:8080/"
        },
        "id": "H6m5oJEF2pLt",
        "outputId": "3ec16005-91d0-45c2-c6e4-bd4c8337b3eb"
      },
      "execution_count": null,
      "outputs": [
        {
          "output_type": "stream",
          "name": "stdout",
          "text": [
            "Nick\n",
            "Hi Nick, I see you're 30\n",
            "Amanda\n",
            "Hi Amanda, I see you're 34\n",
            "John\n",
            "Haley\n"
          ]
        }
      ]
    },
    {
      "cell_type": "code",
      "source": [
        "# We can then access elements of our dictionary.\n",
        "print(f'The first name of the Patient is {patient_3[\"Name\"]}')\n",
        "print(f'The last name of the Patient is {patient_3[\"Last Name\"]}')\n",
        "print(f'The ID of the Patient is {patient_3[\"MRN\"]}')\n",
        "print(f'The DOB of the Patient is {patient_3[\"DOB\"]}')"
      ],
      "metadata": {
        "colab": {
          "base_uri": "https://localhost:8080/"
        },
        "id": "RS5Vt-vixvcY",
        "outputId": "c7f2fe02-c0b0-4b1b-b285-ff910027ebfd"
      },
      "execution_count": null,
      "outputs": [
        {
          "output_type": "stream",
          "name": "stdout",
          "text": [
            "The first name of the Patient is Jack\n",
            "The last name of the Patient is Sparrow\n",
            "The ID of the Patient is 001234567\n",
            "The DOB of the Patient is 22231845\n"
          ]
        }
      ]
    },
    {
      "cell_type": "markdown",
      "source": [
        "#Nesting with Dictionaries"
      ],
      "metadata": {
        "id": "G2b4Cgv4xvT8"
      }
    },
    {
      "cell_type": "code",
      "source": [
        "# Dictionary nested inside a dictionary nested in side a dictionary\n",
        "d = {'key1':{'nestkey':{'subnestkey':'value'}}}"
      ],
      "metadata": {
        "id": "s5OYOIeXyKAG"
      },
      "execution_count": null,
      "outputs": []
    },
    {
      "cell_type": "code",
      "source": [
        "d.items()"
      ],
      "metadata": {
        "colab": {
          "base_uri": "https://localhost:8080/"
        },
        "id": "cnmZvNG2wcut",
        "outputId": "729a6a4a-40ee-4630-be28-b920a7195758"
      },
      "execution_count": null,
      "outputs": [
        {
          "output_type": "execute_result",
          "data": {
            "text/plain": [
              "dict_items([('key1', {'nestkey': {'subnestkey': 'value'}})])"
            ]
          },
          "metadata": {},
          "execution_count": 4
        }
      ]
    },
    {
      "cell_type": "code",
      "source": [
        "# Keep calling the keys to get the last value in the nest\n",
        "d['key1']['nestkey']['subnestkey']"
      ],
      "metadata": {
        "colab": {
          "base_uri": "https://localhost:8080/",
          "height": 35
        },
        "id": "moxYcODj2csq",
        "outputId": "9c775257-a63c-4d13-fbcb-de69526469b6"
      },
      "execution_count": null,
      "outputs": [
        {
          "output_type": "execute_result",
          "data": {
            "application/vnd.google.colaboratory.intrinsic+json": {
              "type": "string"
            },
            "text/plain": [
              "'value'"
            ]
          },
          "metadata": {},
          "execution_count": 8
        }
      ]
    },
    {
      "cell_type": "code",
      "source": [
        "for key,value in d.items():\n",
        "  print(key)\n",
        "  print(value)"
      ],
      "metadata": {
        "colab": {
          "base_uri": "https://localhost:8080/"
        },
        "id": "esTbC-0bxEja",
        "outputId": "60ce543a-7c4a-4043-a326-b0b7baf86a63"
      },
      "execution_count": null,
      "outputs": [
        {
          "output_type": "stream",
          "name": "stdout",
          "text": [
            "key1\n",
            "{'nestkey': {'subnestkey': 'value'}}\n"
          ]
        }
      ]
    },
    {
      "cell_type": "markdown",
      "source": [
        "#Dictionary Methods"
      ],
      "metadata": {
        "id": "DbgGUEr_2cqm"
      }
    },
    {
      "cell_type": "code",
      "source": [
        "# Create a typical dictionary\n",
        "d = {'key1':1,'key2':2,'key3':3}\n",
        "# Method to return a list of all keys \n",
        "d.keys()"
      ],
      "metadata": {
        "colab": {
          "base_uri": "https://localhost:8080/"
        },
        "id": "cFYTRcPV2coG",
        "outputId": "50d9f011-996e-4fa3-a83a-1b2641688f0b"
      },
      "execution_count": null,
      "outputs": [
        {
          "output_type": "execute_result",
          "data": {
            "text/plain": [
              "dict_keys(['key1', 'key2', 'key3'])"
            ]
          },
          "metadata": {},
          "execution_count": 25
        }
      ]
    },
    {
      "cell_type": "code",
      "source": [
        "# Method to grab all values\n",
        "d.values()"
      ],
      "metadata": {
        "colab": {
          "base_uri": "https://localhost:8080/"
        },
        "id": "oU0KNXf62clp",
        "outputId": "3b3ebbb6-90a6-4168-8483-009ff3134505"
      },
      "execution_count": null,
      "outputs": [
        {
          "output_type": "execute_result",
          "data": {
            "text/plain": [
              "dict_values([1, 2, 3])"
            ]
          },
          "metadata": {},
          "execution_count": 26
        }
      ]
    },
    {
      "cell_type": "code",
      "source": [
        "# Method to return tuples of all items  (we'll learn about tuples soon)\n",
        "d.items()"
      ],
      "metadata": {
        "colab": {
          "base_uri": "https://localhost:8080/"
        },
        "id": "VcTtIZ1q2ci1",
        "outputId": "7c1fcb42-8149-4bdb-b6a4-6f316c0017f2"
      },
      "execution_count": null,
      "outputs": [
        {
          "output_type": "execute_result",
          "data": {
            "text/plain": [
              "dict_items([('key1', 1), ('key2', 2), ('key3', 3)])"
            ]
          },
          "metadata": {},
          "execution_count": 27
        }
      ]
    }
  ]
}