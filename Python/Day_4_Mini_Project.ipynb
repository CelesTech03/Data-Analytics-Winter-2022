{
  "nbformat": 4,
  "nbformat_minor": 0,
  "metadata": {
    "colab": {
      "name": "Day 4 Mini Project.ipynb",
      "provenance": [],
      "collapsed_sections": [],
      "authorship_tag": "ABX9TyMk9wF+NAHzpn9iw0NIvoTu",
      "include_colab_link": true
    },
    "kernelspec": {
      "name": "python3",
      "display_name": "Python 3"
    },
    "language_info": {
      "name": "python"
    }
  },
  "cells": [
    {
      "cell_type": "markdown",
      "metadata": {
        "id": "view-in-github",
        "colab_type": "text"
      },
      "source": [
        "<a href=\"https://colab.research.google.com/github/CelesTech03/Data-Analytics-Winter-2022/blob/main/Python/Day_4_Mini_Project.ipynb\" target=\"_parent\"><img src=\"https://colab.research.google.com/assets/colab-badge.svg\" alt=\"Open In Colab\"/></a>"
      ]
    },
    {
      "cell_type": "markdown",
      "source": [
        "# Mini Project\n",
        "Ask the user for a number. Depending on whether the number is even or odd, print out an appropriate message to the user.  \n",
        "Hint: how does an even / odd number react differently when divided by 2?\n",
        "\n",
        "Bonus:\n",
        "If the number is a multiple of 4, print out a different message. Ask the user for two numbers: one number to check (call it num) and one number to divide by (check). If check divides evenly into num, tell that to the user. If not, print a different appropriate message. Write a custom function for finding whether the number is even or odd and call it in your main program code.\n"
      ],
      "metadata": {
        "id": "wUGjOF6QtwVW"
      }
    },
    {
      "cell_type": "code",
      "source": [
        "# Function to tell wether a number is even or odd\n",
        "def even_or_odd(number):\n",
        "  if (number % 2) == 0:\n",
        "    print(f'{number} is an even number')\n",
        "  else:\n",
        "    print(f'{number} is an odd number')"
      ],
      "metadata": {
        "id": "ekZk0CpIwJy6"
      },
      "execution_count": 70,
      "outputs": []
    },
    {
      "cell_type": "code",
      "source": [
        "# Function to check if number is a multiple of 4\n",
        "def is_Multiple_4(number):\n",
        "  if (number % 4) == 0:\n",
        "    print(f'{number} is a multiple of 4')\n",
        "  else:\n",
        "    print(f'{number} is not a multiple of 4')"
      ],
      "metadata": {
        "id": "BT9h8iZX0hcY"
      },
      "execution_count": 71,
      "outputs": []
    },
    {
      "cell_type": "code",
      "source": [
        "# Function to see if num divides evenly into check\n",
        "def is_Divisible(num, check):\n",
        "  if (num % check) == 0:\n",
        "    print(f'{num} is divisible by {check}')\n",
        "  else:\n",
        "    print(f'{num} is not divisible by {check}')"
      ],
      "metadata": {
        "id": "Bo3RQ87G09PI"
      },
      "execution_count": 72,
      "outputs": []
    },
    {
      "cell_type": "code",
      "source": [
        "# \"Main program\"\n",
        "num = int(input(\"Enter first number: \"))\n",
        "check = int(input(\"Enter second number: \"))\n",
        "\n",
        "even_or_odd(num)\n",
        "is_Multiple_4(num)\n",
        "is_Divisible(num,check)"
      ],
      "metadata": {
        "id": "xErYfLuzx_Sq"
      },
      "execution_count": null,
      "outputs": []
    }
  ]
}