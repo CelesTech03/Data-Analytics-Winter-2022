{
  "nbformat": 4,
  "nbformat_minor": 0,
  "metadata": {
    "colab": {
      "name": "Day 3 Conditional Operators.ipynb",
      "provenance": [],
      "collapsed_sections": [],
      "authorship_tag": "ABX9TyN3Z1vwiUvKv/jdO41Yahvm",
      "include_colab_link": true
    },
    "kernelspec": {
      "name": "python3",
      "display_name": "Python 3"
    },
    "language_info": {
      "name": "python"
    }
  },
  "cells": [
    {
      "cell_type": "markdown",
      "metadata": {
        "id": "view-in-github",
        "colab_type": "text"
      },
      "source": [
        "<a href=\"https://colab.research.google.com/github/CelesTech03/Data-Analytics-Winter-2022/blob/main/Python/Day_3_Conditional_Operators.ipynb\" target=\"_parent\"><img src=\"https://colab.research.google.com/assets/colab-badge.svg\" alt=\"Open In Colab\"/></a>"
      ]
    },
    {
      "cell_type": "markdown",
      "source": [
        "#Conditional Operators"
      ],
      "metadata": {
        "id": "KpcdUfnyTQHq"
      }
    },
    {
      "cell_type": "code",
      "source": [
        "#The Python loop checks to see if the value if bike is ‘ducati’ – if it is: print in UPPER case.  If it isn’t print in lower case.\n",
        "motorcycles = ['ducati', 'bmw', 'yamaha', 'honda']\n",
        "for bike in motorcycles:\n",
        "  if bike == 'ducati':\n",
        "    print(bike.upper())\n",
        "  else:\n",
        "    print(bike.lower())"
      ],
      "metadata": {
        "colab": {
          "base_uri": "https://localhost:8080/"
        },
        "id": "u3sSZ2e_TrX6",
        "outputId": "1889ff2f-3c23-4ae6-a0cb-61148d891d48"
      },
      "execution_count": null,
      "outputs": [
        {
          "output_type": "stream",
          "name": "stdout",
          "text": [
            "DUCATI\n",
            "bmw\n",
            "yamaha\n",
            "honda\n"
          ]
        }
      ]
    },
    {
      "cell_type": "markdown",
      "source": [
        "#Conditional Tests\n",
        "Conditional tests determine how to proceed based on if the statement evaluates as True or False.  \n",
        "If the conditional test is True Python will evaluate as true, and run the if statement.\n",
        "If the conditional test is False Python will emulate as false and ignore the if statement. "
      ],
      "metadata": {
        "id": "ZM7NhGkdTrVb"
      }
    },
    {
      "cell_type": "code",
      "source": [
        "#The double equal sign (==) is an equality operator – it returns True if both values \n",
        "# on the left and ride side of the operator match, false if they don’t.\n",
        "# The single equal sign (=) assigns a value to that variable.\n",
        "\n",
        "bike = 'honda'\n",
        "bike == 'honda'"
      ],
      "metadata": {
        "colab": {
          "base_uri": "https://localhost:8080/"
        },
        "id": "zLjJX_aaTrTL",
        "outputId": "8482f243-d8aa-4736-e5d1-8861be4c03d7"
      },
      "execution_count": null,
      "outputs": [
        {
          "output_type": "execute_result",
          "data": {
            "text/plain": [
              "True"
            ]
          },
          "metadata": {},
          "execution_count": 3
        }
      ]
    },
    {
      "cell_type": "code",
      "source": [
        "bike = 'bmw'\n",
        "bike == 'honda'"
      ],
      "metadata": {
        "colab": {
          "base_uri": "https://localhost:8080/"
        },
        "id": "70S-vJzMTrQ4",
        "outputId": "18acda93-8915-4451-b61a-00b12c90e3e3"
      },
      "execution_count": null,
      "outputs": [
        {
          "output_type": "execute_result",
          "data": {
            "text/plain": [
              "False"
            ]
          },
          "metadata": {},
          "execution_count": 4
        }
      ]
    },
    {
      "cell_type": "code",
      "source": [
        "# The not equal sign (!=) checks if values are not equal to each other.\n",
        "patient_exam = 'echo'\n",
        "if patient_exam != 'ecg':\n",
        "  print('Incorrect exam!')"
      ],
      "metadata": {
        "colab": {
          "base_uri": "https://localhost:8080/"
        },
        "id": "KR8vNjC2TrOU",
        "outputId": "157d66f5-e559-4328-b9d0-6b0104faed57"
      },
      "execution_count": null,
      "outputs": [
        {
          "output_type": "stream",
          "name": "stdout",
          "text": [
            "Incorrect exam!\n"
          ]
        }
      ]
    },
    {
      "cell_type": "code",
      "source": [
        "readmit_days_after_discharge = 29\n",
        "if readmit_days_after_discharge < 30:\n",
        "  print(\"Patient was readmitted within 30 days \")\n",
        "else:\n",
        "  print(\"Patient was readmitted after 30 days \")"
      ],
      "metadata": {
        "colab": {
          "base_uri": "https://localhost:8080/"
        },
        "id": "EblPFQjpUOSl",
        "outputId": "af873178-2626-43ba-84ed-b426a795c7a7"
      },
      "execution_count": null,
      "outputs": [
        {
          "output_type": "stream",
          "name": "stdout",
          "text": [
            "Patient was readmitted within 30 days \n"
          ]
        }
      ]
    },
    {
      "cell_type": "code",
      "source": [
        "studentA_age = 24\n",
        "studentB_age = 33\n",
        "studentA_age >= 20 or studentB_age >= 21"
      ],
      "metadata": {
        "colab": {
          "base_uri": "https://localhost:8080/"
        },
        "id": "EVnW01HRUOQe",
        "outputId": "b608fdc0-8eb5-4581-c4c0-ed35bda8ec71"
      },
      "execution_count": null,
      "outputs": [
        {
          "output_type": "execute_result",
          "data": {
            "text/plain": [
              "True"
            ]
          },
          "metadata": {},
          "execution_count": 8
        }
      ]
    },
    {
      "cell_type": "code",
      "source": [
        "# Often times, you’ll want to see if a particular value is or isn’t within your dataset column. \n",
        "# We can use the in or not in keyword to see whether a particular value is in our list or not.\n",
        "patient_exam_record = ['ecg', 'echo', 'cath']\n",
        "'cath' in patient_exam_record"
      ],
      "metadata": {
        "colab": {
          "base_uri": "https://localhost:8080/"
        },
        "id": "PgcpjB_2UOOG",
        "outputId": "35899419-bac1-47bf-f7d6-fb6c8254b583"
      },
      "execution_count": null,
      "outputs": [
        {
          "output_type": "execute_result",
          "data": {
            "text/plain": [
              "True"
            ]
          },
          "metadata": {},
          "execution_count": 9
        }
      ]
    },
    {
      "cell_type": "code",
      "source": [
        "patient_allergies = ['latex', 'penicillin', 'aspirin']\n",
        "new_allergy = 'ibuprofen'\n",
        "\n",
        "if new_allergy not in patient_allergies:\n",
        "  print(new_allergy.title() + \", was not in the previous allergy list. Please confirm.\")"
      ],
      "metadata": {
        "colab": {
          "base_uri": "https://localhost:8080/"
        },
        "id": "Oe66UkXmWkgR",
        "outputId": "1e47b0da-2849-46d0-fb53-281fe22d6a9c"
      },
      "execution_count": null,
      "outputs": [
        {
          "output_type": "stream",
          "name": "stdout",
          "text": [
            "Ibuprofen, was not in the previous allergy list. Please confirm.\n"
          ]
        }
      ]
    },
    {
      "cell_type": "code",
      "source": [
        "# If statements, as we have been introducing, rely on conditionals tests for Python to understand what to do.\n",
        "age = 19\n",
        "if age >= 18:\n",
        "  print(\"You're old enough to vote!\")"
      ],
      "metadata": {
        "colab": {
          "base_uri": "https://localhost:8080/"
        },
        "id": "gSdo1jWOXC3Z",
        "outputId": "0942d668-cf96-44ea-df38-7ed11cc39a61"
      },
      "execution_count": null,
      "outputs": [
        {
          "output_type": "stream",
          "name": "stdout",
          "text": [
            "You're old enough to vote!\n"
          ]
        }
      ]
    },
    {
      "cell_type": "code",
      "source": [
        "# If-else statements: a statement will evaluate depending on which statement is true.\n",
        "age = 17\n",
        "if age >= 18:\n",
        "  print(\"You're old enough to vote!\")\n",
        "else:\n",
        "  print(\"Not old enough\")"
      ],
      "metadata": {
        "colab": {
          "base_uri": "https://localhost:8080/"
        },
        "id": "ZjNY7ophXC1I",
        "outputId": "1838c73c-7f0d-475f-bf3c-1d9d5a0e0155"
      },
      "execution_count": null,
      "outputs": [
        {
          "output_type": "stream",
          "name": "stdout",
          "text": [
            "Not old enough\n"
          ]
        }
      ]
    },
    {
      "cell_type": "code",
      "source": [
        "# You’ll find times when you need to test for more than two possible outcomes – that’s where the if-elif-else syntax comes into play. \n",
        "# The else block isn’t required – you can keep using elif.\n",
        "age = 32\n",
        "\n",
        "if age < 5:\n",
        "  print(\"Admission price is free\")\n",
        "elif age < 18:\n",
        "  print(\"Admission price is $5\")\n",
        "else:\n",
        "  print(\"Admission price is $10\")\n"
      ],
      "metadata": {
        "colab": {
          "base_uri": "https://localhost:8080/"
        },
        "id": "BkylVb5LXCyp",
        "outputId": "91587eb3-8e59-4e5b-9996-ddf28aff6160"
      },
      "execution_count": null,
      "outputs": [
        {
          "output_type": "stream",
          "name": "stdout",
          "text": [
            "Admission price is $10\n"
          ]
        }
      ]
    },
    {
      "cell_type": "code",
      "source": [
        "age = 17\n",
        "\n",
        "if age < 4:\n",
        "  price = 0\n",
        "\n",
        "elif age < 18:\n",
        "  price = 5\n",
        "\n",
        "else:\n",
        "  price = 10\n",
        "\n",
        "print(\"Admission price is: \" + str(price))"
      ],
      "metadata": {
        "colab": {
          "base_uri": "https://localhost:8080/"
        },
        "id": "33jqrIjLXCwZ",
        "outputId": "ea5b82bd-5c88-4448-eadc-6398e68c87b1"
      },
      "execution_count": null,
      "outputs": [
        {
          "output_type": "stream",
          "name": "stdout",
          "text": [
            "Admission price is: 5\n"
          ]
        }
      ]
    },
    {
      "cell_type": "code",
      "source": [
        "# The if-elif-else chain is a useful and necessary tool in Python – however,\n",
        "# once it meets a condition that passes the test, it will skip the remaining. \n",
        "# Sometimes you need to check all of the conditions.\n",
        "toppings = ['chocolate', 'sprinkles']\n",
        "\n",
        "if 'chocolate' in toppings:\n",
        "  print(\"adding chocolate\")\n",
        "if 'sprinkles' in toppings:\n",
        "  print(\"adding sprinkles\")\n",
        "if 'peanuts' in toppings:\n",
        "  print(\"adding peanuts\")"
      ],
      "metadata": {
        "colab": {
          "base_uri": "https://localhost:8080/"
        },
        "id": "7pIdyFTFYV43",
        "outputId": "70f4a7a2-31cd-421f-eb93-61e1c9d1326e"
      },
      "execution_count": null,
      "outputs": [
        {
          "output_type": "stream",
          "name": "stdout",
          "text": [
            "adding chocolate\n",
            "adding sprinkles\n"
          ]
        }
      ]
    },
    {
      "cell_type": "code",
      "source": [
        "# This example keeps a list of available toppings for an icecream cone.\n",
        "# You’ll notice that now, using if-else and for loops, we can loop through the list and print toppings that are added or sold out.\n",
        "\n",
        "toppings = ['chocolate', 'sprinkles']\n",
        "\n",
        "for topping in toppings:\n",
        "  if topping == 'chocolate':\n",
        "    print(\"All out of chocolate!\")\n",
        "  else:\n",
        "    print(\"Adding the following topping! \" + topping)"
      ],
      "metadata": {
        "colab": {
          "base_uri": "https://localhost:8080/"
        },
        "id": "rAnHeg8OYV2P",
        "outputId": "6f2555a8-c508-4401-d39b-72a79d0ab27f"
      },
      "execution_count": null,
      "outputs": [
        {
          "output_type": "stream",
          "name": "stdout",
          "text": [
            "All out of chocolate!\n",
            "Adding the following topping! sprinkles\n"
          ]
        }
      ]
    }
  ]
}