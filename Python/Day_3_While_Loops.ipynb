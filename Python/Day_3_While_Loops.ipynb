{
  "nbformat": 4,
  "nbformat_minor": 0,
  "metadata": {
    "colab": {
      "name": "Day 3 While Loops.ipynb",
      "provenance": [],
      "collapsed_sections": [],
      "authorship_tag": "ABX9TyNV6gxfaQuG6+cyhirn1pj2",
      "include_colab_link": true
    },
    "kernelspec": {
      "name": "python3",
      "display_name": "Python 3"
    },
    "language_info": {
      "name": "python"
    }
  },
  "cells": [
    {
      "cell_type": "markdown",
      "metadata": {
        "id": "view-in-github",
        "colab_type": "text"
      },
      "source": [
        "<a href=\"https://colab.research.google.com/github/CelesTech03/Data-Analytics-Winter-2022/blob/main/Python/Day_3_While_Loops.ipynb\" target=\"_parent\"><img src=\"https://colab.research.google.com/assets/colab-badge.svg\" alt=\"Open In Colab\"/></a>"
      ]
    },
    {
      "cell_type": "markdown",
      "source": [
        "#While Loops"
      ],
      "metadata": {
        "id": "3QLuiW4DTfGu"
      }
    },
    {
      "cell_type": "code",
      "source": [
        "# The while loop is set to keep running while a certain condition is true.  In this case, while number is <= 5.\n",
        "number = 1\n",
        "# The code inside the loop prints the current number (print(number)) then \n",
        "# increases the number by 1 (+= 1).  += basically means: number = number + 1.\n",
        "while number <= 5:\n",
        "  print(number)\n",
        "  number+= 1"
      ],
      "metadata": {
        "colab": {
          "base_uri": "https://localhost:8080/"
        },
        "id": "HEjXcmqrTivE",
        "outputId": "17846b1d-bbbd-4bd7-f19c-091ca8f70360"
      },
      "execution_count": null,
      "outputs": [
        {
          "output_type": "stream",
          "name": "stdout",
          "text": [
            "1\n",
            "2\n",
            "3\n",
            "4\n",
            "5\n"
          ]
        }
      ]
    },
    {
      "cell_type": "code",
      "source": [
        "name = input('What is your name: ') # Variable name holds the user input"
      ],
      "metadata": {
        "colab": {
          "base_uri": "https://localhost:8080/"
        },
        "id": "olHnT7alTism",
        "outputId": "2ac8908d-3f8b-474c-cf24-f598ff5c5ffe"
      },
      "execution_count": null,
      "outputs": [
        {
          "name": "stdout",
          "output_type": "stream",
          "text": [
            "What is your name: Kenobi\n"
          ]
        }
      ]
    },
    {
      "cell_type": "code",
      "source": [
        "name"
      ],
      "metadata": {
        "colab": {
          "base_uri": "https://localhost:8080/",
          "height": 35
        },
        "id": "kfO1NW9NUj82",
        "outputId": "0cb0c145-8355-4d1b-f13a-492b2c6a676c"
      },
      "execution_count": null,
      "outputs": [
        {
          "output_type": "execute_result",
          "data": {
            "application/vnd.google.colaboratory.intrinsic+json": {
              "type": "string"
            },
            "text/plain": [
              "'Kenobi'"
            ]
          },
          "metadata": {},
          "execution_count": 8
        }
      ]
    },
    {
      "cell_type": "code",
      "source": [
        "age = int(input('What is your age: '))"
      ],
      "metadata": {
        "colab": {
          "base_uri": "https://localhost:8080/"
        },
        "id": "M5huG48dUj6i",
        "outputId": "82594637-c10b-441a-f2b3-f78895967bb3"
      },
      "execution_count": null,
      "outputs": [
        {
          "name": "stdout",
          "output_type": "stream",
          "text": [
            "What is your age: 29\n"
          ]
        }
      ]
    },
    {
      "cell_type": "code",
      "source": [
        "age"
      ],
      "metadata": {
        "colab": {
          "base_uri": "https://localhost:8080/"
        },
        "id": "vGusISw8Uj39",
        "outputId": "4a165dda-543c-4b6c-8718-f6a274b06bc2"
      },
      "execution_count": null,
      "outputs": [
        {
          "output_type": "execute_result",
          "data": {
            "text/plain": [
              "29"
            ]
          },
          "metadata": {},
          "execution_count": 10
        }
      ]
    },
    {
      "cell_type": "code",
      "source": [
        "# A while loop can be broken by a users input.\n",
        "prompt = \"Input a message. I will repeat until you type 'quit': \"\n",
        "message = \"\"\n",
        "\n",
        "while message != 'quit':\n",
        "  message = input(prompt)\n",
        "  print(message)"
      ],
      "metadata": {
        "colab": {
          "base_uri": "https://localhost:8080/"
        },
        "id": "SeKhyq7wVXY6",
        "outputId": "749063e6-928b-490d-99de-113cb93cfaca"
      },
      "execution_count": null,
      "outputs": [
        {
          "output_type": "stream",
          "name": "stdout",
          "text": [
            "Input a message. I will repeat until you type 'quit': Hi\n",
            "Hi\n",
            "Input a message. I will repeat until you type 'quit': Bye\n",
            "Bye\n",
            "Input a message. I will repeat until you type 'quit': quit\n",
            "quit\n"
          ]
        }
      ]
    },
    {
      "cell_type": "code",
      "source": [
        "# Sometimes it makes more sense to create a flag to signal to Python to break the while loop.  \n",
        "# Programs will run while the flag is set to True.\n",
        "\n",
        "prompt = \"Input a message. I will repeat until you type 'quit': \"\n",
        "message = \"\"\n",
        "\n",
        "active = True\n",
        "while active:\n",
        "  message = input(prompt)\n",
        "\n",
        "  if message == 'quit':\n",
        "     active = False\n",
        "\n",
        "  else:\n",
        "    print(message)  "
      ],
      "metadata": {
        "colab": {
          "base_uri": "https://localhost:8080/"
        },
        "id": "6O-AzprZVXWm",
        "outputId": "c1ed5978-3beb-487a-853c-b6f2dd527fe8"
      },
      "execution_count": null,
      "outputs": [
        {
          "name": "stdout",
          "output_type": "stream",
          "text": [
            "Input a message. I will repeat until you type 'quit': Hi\n",
            "Hi\n",
            "Input a message. I will repeat until you type 'quit': Bye\n",
            "Bye\n",
            "Input a message. I will repeat until you type 'quit': quit\n"
          ]
        }
      ]
    }
  ]
}