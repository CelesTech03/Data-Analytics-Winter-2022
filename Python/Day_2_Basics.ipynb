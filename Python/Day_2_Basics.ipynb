{
  "nbformat": 4,
  "nbformat_minor": 0,
  "metadata": {
    "colab": {
      "name": "Day 2 Basics.ipynb",
      "provenance": [],
      "collapsed_sections": [
        "3LaR6pLa6ZA7",
        "y2zSAB6D6isB"
      ],
      "authorship_tag": "ABX9TyOfDDrXfN8cm9FBg9O8H7nW",
      "include_colab_link": true
    },
    "kernelspec": {
      "name": "python3",
      "display_name": "Python 3"
    },
    "language_info": {
      "name": "python"
    }
  },
  "cells": [
    {
      "cell_type": "markdown",
      "metadata": {
        "id": "view-in-github",
        "colab_type": "text"
      },
      "source": [
        "<a href=\"https://colab.research.google.com/github/CelesTech03/Data-Analytics-Winter-2022/blob/main/Python/Day_2_Basics.ipynb\" target=\"_parent\"><img src=\"https://colab.research.google.com/assets/colab-badge.svg\" alt=\"Open In Colab\"/></a>"
      ]
    },
    {
      "cell_type": "markdown",
      "source": [
        "# String Indexing and Slicing"
      ],
      "metadata": {
        "id": "3LaR6pLa6ZA7"
      }
    },
    {
      "cell_type": "code",
      "source": [
        "# Assign s as a string\n",
        "s = \"Hello World\""
      ],
      "metadata": {
        "id": "rtxQTRlE6i42"
      },
      "execution_count": null,
      "outputs": []
    },
    {
      "cell_type": "code",
      "source": [
        "# Check\n",
        "s"
      ],
      "metadata": {
        "colab": {
          "base_uri": "https://localhost:8080/",
          "height": 35
        },
        "id": "mgQa0kq_6i11",
        "outputId": "aae0a48e-0273-4631-ebfc-9549fa602aad"
      },
      "execution_count": null,
      "outputs": [
        {
          "output_type": "execute_result",
          "data": {
            "application/vnd.google.colaboratory.intrinsic+json": {
              "type": "string"
            },
            "text/plain": [
              "'Hello World'"
            ]
          },
          "metadata": {},
          "execution_count": 4
        }
      ]
    },
    {
      "cell_type": "code",
      "source": [
        "# Show first element (in this case a letter)\n",
        "s[0]"
      ],
      "metadata": {
        "colab": {
          "base_uri": "https://localhost:8080/",
          "height": 35
        },
        "id": "ws_U3H_w6izM",
        "outputId": "18162a99-831f-4569-a600-88a103432e99"
      },
      "execution_count": null,
      "outputs": [
        {
          "output_type": "execute_result",
          "data": {
            "application/vnd.google.colaboratory.intrinsic+json": {
              "type": "string"
            },
            "text/plain": [
              "'H'"
            ]
          },
          "metadata": {},
          "execution_count": 5
        }
      ]
    },
    {
      "cell_type": "code",
      "source": [
        "s[1]"
      ],
      "metadata": {
        "colab": {
          "base_uri": "https://localhost:8080/",
          "height": 35
        },
        "id": "gMKaddK66iwy",
        "outputId": "2cf74615-5745-4d0f-90d0-30e31af1aab8"
      },
      "execution_count": null,
      "outputs": [
        {
          "output_type": "execute_result",
          "data": {
            "application/vnd.google.colaboratory.intrinsic+json": {
              "type": "string"
            },
            "text/plain": [
              "'e'"
            ]
          },
          "metadata": {},
          "execution_count": 6
        }
      ]
    },
    {
      "cell_type": "code",
      "source": [
        "s[2]"
      ],
      "metadata": {
        "colab": {
          "base_uri": "https://localhost:8080/",
          "height": 35
        },
        "id": "aZPhODjs6iuq",
        "outputId": "df7e536a-6295-4af2-ab56-e0a5c8f895cd"
      },
      "execution_count": null,
      "outputs": [
        {
          "output_type": "execute_result",
          "data": {
            "application/vnd.google.colaboratory.intrinsic+json": {
              "type": "string"
            },
            "text/plain": [
              "'l'"
            ]
          },
          "metadata": {},
          "execution_count": 7
        }
      ]
    },
    {
      "cell_type": "markdown",
      "source": [
        "# Slicing\n",
        "We can use a: to perform slicing which grabs everything up to a designated point."
      ],
      "metadata": {
        "id": "y2zSAB6D6isB"
      }
    },
    {
      "cell_type": "code",
      "source": [
        "# Grab everything past the first term all the way to the length of s which is Len(s)\n",
        "s[1:]"
      ],
      "metadata": {
        "colab": {
          "base_uri": "https://localhost:8080/",
          "height": 35
        },
        "id": "Awdlcl036ipW",
        "outputId": "d559ac34-f8cb-4151-efbe-d70e5e8b3e51"
      },
      "execution_count": null,
      "outputs": [
        {
          "output_type": "execute_result",
          "data": {
            "application/vnd.google.colaboratory.intrinsic+json": {
              "type": "string"
            },
            "text/plain": [
              "'ello World'"
            ]
          },
          "metadata": {},
          "execution_count": 8
        }
      ]
    },
    {
      "cell_type": "code",
      "source": [
        "# Note that there is no change to the original s\n",
        "s"
      ],
      "metadata": {
        "colab": {
          "base_uri": "https://localhost:8080/",
          "height": 35
        },
        "id": "0YOoHSo46imZ",
        "outputId": "9e9ff3d2-5d84-424d-c0d8-025cfc0ee8ec"
      },
      "execution_count": null,
      "outputs": [
        {
          "output_type": "execute_result",
          "data": {
            "application/vnd.google.colaboratory.intrinsic+json": {
              "type": "string"
            },
            "text/plain": [
              "'Hello World'"
            ]
          },
          "metadata": {},
          "execution_count": 9
        }
      ]
    },
    {
      "cell_type": "code",
      "source": [
        "# Grab everything UP TO the 3rd index\n",
        "s[:3]"
      ],
      "metadata": {
        "colab": {
          "base_uri": "https://localhost:8080/",
          "height": 35
        },
        "id": "8pxcO3bj6idS",
        "outputId": "dace850f-63b2-4681-ccc4-ffe3bfc907dd"
      },
      "execution_count": null,
      "outputs": [
        {
          "output_type": "execute_result",
          "data": {
            "application/vnd.google.colaboratory.intrinsic+json": {
              "type": "string"
            },
            "text/plain": [
              "'Hel'"
            ]
          },
          "metadata": {},
          "execution_count": 11
        }
      ]
    },
    {
      "cell_type": "markdown",
      "source": [
        "Note the above slicing. Here we're telling python to grab everything every 0 up to 3. It doesn't include the 3rd index. You'll notice this a lot in Python, where statements and are usually in the context of \"up to, but not including.\""
      ],
      "metadata": {
        "id": "iio4pMP28UUE"
      }
    },
    {
      "cell_type": "code",
      "source": [
        "# Everything\n",
        "s[:]"
      ],
      "metadata": {
        "colab": {
          "base_uri": "https://localhost:8080/",
          "height": 35
        },
        "id": "JMvfUHqu8UP2",
        "outputId": "6c8347ee-1e81-4828-bbe0-31a926af84b5"
      },
      "execution_count": null,
      "outputs": [
        {
          "output_type": "execute_result",
          "data": {
            "application/vnd.google.colaboratory.intrinsic+json": {
              "type": "string"
            },
            "text/plain": [
              "'Hello World'"
            ]
          },
          "metadata": {},
          "execution_count": 12
        }
      ]
    },
    {
      "cell_type": "code",
      "source": [
        "# We can also use negative indexing to go backwards.\n",
        "# Last letter (one indez behind 0 so it loops back around)\n",
        "s[-1]"
      ],
      "metadata": {
        "colab": {
          "base_uri": "https://localhost:8080/",
          "height": 35
        },
        "id": "_IV-2lbC8UIB",
        "outputId": "fdd3dd87-dbcc-4377-fba1-87e9613f50fb"
      },
      "execution_count": null,
      "outputs": [
        {
          "output_type": "execute_result",
          "data": {
            "application/vnd.google.colaboratory.intrinsic+json": {
              "type": "string"
            },
            "text/plain": [
              "'d'"
            ]
          },
          "metadata": {},
          "execution_count": 13
        }
      ]
    },
    {
      "cell_type": "code",
      "source": [
        "# Grab everything but the last letter\n",
        "s[:-1]"
      ],
      "metadata": {
        "colab": {
          "base_uri": "https://localhost:8080/",
          "height": 35
        },
        "id": "HK0rmTWV90mx",
        "outputId": "dcd1490d-093e-44d0-98ec-71e8a11fc1b7"
      },
      "execution_count": null,
      "outputs": [
        {
          "output_type": "execute_result",
          "data": {
            "application/vnd.google.colaboratory.intrinsic+json": {
              "type": "string"
            },
            "text/plain": [
              "'Hello Worl'"
            ]
          },
          "metadata": {},
          "execution_count": 14
        }
      ]
    },
    {
      "cell_type": "code",
      "source": [
        "s"
      ],
      "metadata": {
        "colab": {
          "base_uri": "https://localhost:8080/",
          "height": 35
        },
        "id": "9qUpop9v90kV",
        "outputId": "d55342bf-7047-46ac-a941-4c3ebe7fd524"
      },
      "execution_count": null,
      "outputs": [
        {
          "output_type": "execute_result",
          "data": {
            "application/vnd.google.colaboratory.intrinsic+json": {
              "type": "string"
            },
            "text/plain": [
              "'Hello World'"
            ]
          },
          "metadata": {},
          "execution_count": 15
        }
      ]
    },
    {
      "cell_type": "code",
      "source": [
        "# We can use this to print a string backwards\n",
        "s[::-1]"
      ],
      "metadata": {
        "colab": {
          "base_uri": "https://localhost:8080/",
          "height": 35
        },
        "id": "c8w5w9nP90iC",
        "outputId": "ffd5e12e-c138-4a66-e86e-cd4031b486f9"
      },
      "execution_count": null,
      "outputs": [
        {
          "output_type": "execute_result",
          "data": {
            "application/vnd.google.colaboratory.intrinsic+json": {
              "type": "string"
            },
            "text/plain": [
              "'dlroW olleH'"
            ]
          },
          "metadata": {},
          "execution_count": 16
        }
      ]
    },
    {
      "cell_type": "code",
      "source": [
        "s[3:7]"
      ],
      "metadata": {
        "colab": {
          "base_uri": "https://localhost:8080/",
          "height": 35
        },
        "id": "srRQDDyn90fv",
        "outputId": "c44d4332-83dd-427f-90b6-d24e115c9468"
      },
      "execution_count": null,
      "outputs": [
        {
          "output_type": "execute_result",
          "data": {
            "application/vnd.google.colaboratory.intrinsic+json": {
              "type": "string"
            },
            "text/plain": [
              "'lo W'"
            ]
          },
          "metadata": {},
          "execution_count": 17
        }
      ]
    },
    {
      "cell_type": "code",
      "source": [
        "s[3:7:-1]"
      ],
      "metadata": {
        "colab": {
          "base_uri": "https://localhost:8080/",
          "height": 35
        },
        "id": "zBzXJQZ990dH",
        "outputId": "4dfbe37a-51e0-4a23-9252-514b1a626af2"
      },
      "execution_count": null,
      "outputs": [
        {
          "output_type": "execute_result",
          "data": {
            "application/vnd.google.colaboratory.intrinsic+json": {
              "type": "string"
            },
            "text/plain": [
              "''"
            ]
          },
          "metadata": {},
          "execution_count": 18
        }
      ]
    },
    {
      "cell_type": "code",
      "source": [
        "s[3]"
      ],
      "metadata": {
        "colab": {
          "base_uri": "https://localhost:8080/",
          "height": 35
        },
        "id": "QFn-GaHw90Xf",
        "outputId": "922aa1dd-721f-47d0-d7b6-6d41be4e1ce7"
      },
      "execution_count": null,
      "outputs": [
        {
          "output_type": "execute_result",
          "data": {
            "application/vnd.google.colaboratory.intrinsic+json": {
              "type": "string"
            },
            "text/plain": [
              "'l'"
            ]
          },
          "metadata": {},
          "execution_count": 19
        }
      ]
    },
    {
      "cell_type": "code",
      "source": [
        "s[7]"
      ],
      "metadata": {
        "colab": {
          "base_uri": "https://localhost:8080/",
          "height": 35
        },
        "id": "PinTeJCf90VE",
        "outputId": "dce68731-4ba6-4c45-bc03-f0599f5e567a"
      },
      "execution_count": null,
      "outputs": [
        {
          "output_type": "execute_result",
          "data": {
            "application/vnd.google.colaboratory.intrinsic+json": {
              "type": "string"
            },
            "text/plain": [
              "'o'"
            ]
          },
          "metadata": {},
          "execution_count": 20
        }
      ]
    },
    {
      "cell_type": "markdown",
      "source": [
        "# Strings Concatenation"
      ],
      "metadata": {
        "id": "AbeD52bS-rnq"
      }
    },
    {
      "cell_type": "code",
      "source": [
        "greeting = \"Hello\"\n",
        "name = \"Mark\"\n",
        "print(greeting + name)\n",
        "print(greeting + \" \" + name)"
      ],
      "metadata": {
        "colab": {
          "base_uri": "https://localhost:8080/"
        },
        "id": "5lRFDKle-q61",
        "outputId": "20c8a292-e4eb-4266-c3a6-ee44282dec63"
      },
      "execution_count": null,
      "outputs": [
        {
          "output_type": "stream",
          "name": "stdout",
          "text": [
            "HelloMark\n",
            "Hello Mark\n"
          ]
        }
      ]
    },
    {
      "cell_type": "code",
      "source": [
        "print(greeting +str(6))"
      ],
      "metadata": {
        "colab": {
          "base_uri": "https://localhost:8080/"
        },
        "id": "dP5kxLYT-q3i",
        "outputId": "8ce7920a-c754-44fe-f974-7b95a555ed20"
      },
      "execution_count": null,
      "outputs": [
        {
          "output_type": "stream",
          "name": "stdout",
          "text": [
            "Hello6\n"
          ]
        }
      ]
    },
    {
      "cell_type": "code",
      "source": [
        "print(greeting + '6')"
      ],
      "metadata": {
        "colab": {
          "base_uri": "https://localhost:8080/"
        },
        "id": "CqdAKtvA-q0j",
        "outputId": "da0b2141-cde3-4d99-cde1-bc37d989cd26"
      },
      "execution_count": null,
      "outputs": [
        {
          "output_type": "stream",
          "name": "stdout",
          "text": [
            "Hello6\n"
          ]
        }
      ]
    },
    {
      "cell_type": "code",
      "source": [
        "greeting = 'Hi There '\n",
        "name = input('What is your name: ')\n",
        "print(' ' + greeting + ' ' + name)"
      ],
      "metadata": {
        "id": "ZEWIy--i-qxu",
        "colab": {
          "base_uri": "https://localhost:8080/"
        },
        "outputId": "fae8b9a7-928f-4a4d-953a-260617b0bd03"
      },
      "execution_count": null,
      "outputs": [
        {
          "output_type": "stream",
          "name": "stdout",
          "text": [
            "What is your name: General Kenobi\n",
            " Hi There  General Kenobi\n"
          ]
        }
      ]
    },
    {
      "cell_type": "code",
      "source": [
        "color = 'orange'\n",
        "len(color)"
      ],
      "metadata": {
        "id": "d-dkX3iZ_il0",
        "colab": {
          "base_uri": "https://localhost:8080/"
        },
        "outputId": "cc929086-51ce-4a29-94d2-45f352061db6"
      },
      "execution_count": null,
      "outputs": [
        {
          "output_type": "execute_result",
          "data": {
            "text/plain": [
              "6"
            ]
          },
          "metadata": {},
          "execution_count": 29
        }
      ]
    },
    {
      "cell_type": "markdown",
      "source": [
        "# String formating"
      ],
      "metadata": {
        "id": "Ux451ewg_ijW"
      }
    },
    {
      "cell_type": "code",
      "source": [
        "age = str(27) \n",
        "print(\"I am \" + age + \" Year's old\")"
      ],
      "metadata": {
        "id": "QJsVq6dc_ihF",
        "colab": {
          "base_uri": "https://localhost:8080/"
        },
        "outputId": "b93b16f1-e64f-4257-8347-d67ed325cfaf"
      },
      "execution_count": null,
      "outputs": [
        {
          "output_type": "stream",
          "name": "stdout",
          "text": [
            "I am 27 Year's old\n"
          ]
        }
      ]
    },
    {
      "cell_type": "code",
      "source": [
        "age = 27 \n",
        "print(\"I am \" + str(age) + \" Year's old\")"
      ],
      "metadata": {
        "id": "6xOpnUp6_iem",
        "colab": {
          "base_uri": "https://localhost:8080/"
        },
        "outputId": "1ba1a393-3c4c-40d3-d73e-259312bc960e"
      },
      "execution_count": null,
      "outputs": [
        {
          "output_type": "stream",
          "name": "stdout",
          "text": [
            "I am 27 Year's old\n"
          ]
        }
      ]
    },
    {
      "cell_type": "code",
      "source": [
        "print(\"The colors are {} {} {} \".format(\"Red\", \"Green\", \"Blue\"))"
      ],
      "metadata": {
        "id": "Kv4ooFQd_ibe",
        "colab": {
          "base_uri": "https://localhost:8080/"
        },
        "outputId": "3b3968ea-a6ee-41f1-ffa5-a425878255e6"
      },
      "execution_count": null,
      "outputs": [
        {
          "output_type": "stream",
          "name": "stdout",
          "text": [
            "The colors are Red Green Blue \n"
          ]
        }
      ]
    },
    {
      "cell_type": "code",
      "source": [
        "print(\"The colors are {0} {1} {2} \".format(\"Red\", \"Green\", \"Blue\"))"
      ],
      "metadata": {
        "id": "kEeS321i_iVp",
        "colab": {
          "base_uri": "https://localhost:8080/"
        },
        "outputId": "73c402a4-a045-41c0-d8b2-e97bd0c79157"
      },
      "execution_count": null,
      "outputs": [
        {
          "output_type": "stream",
          "name": "stdout",
          "text": [
            "The colors are Red Green Blue \n"
          ]
        }
      ]
    },
    {
      "cell_type": "code",
      "source": [
        "print(\"The colors are {0} {0} {0} \".format(\"Red\", \"Green\", \"Blue\"))"
      ],
      "metadata": {
        "id": "59250pdX-qqL",
        "colab": {
          "base_uri": "https://localhost:8080/"
        },
        "outputId": "8e3496e5-94cc-43aa-84a7-c0f5d75f613a"
      },
      "execution_count": null,
      "outputs": [
        {
          "output_type": "stream",
          "name": "stdout",
          "text": [
            "The colors are Red Red Red \n"
          ]
        }
      ]
    },
    {
      "cell_type": "code",
      "source": [
        "print(\"The colors are {2} {2} {2} \".format(\"Red\", \"Green\", \"Blue\"))"
      ],
      "metadata": {
        "colab": {
          "base_uri": "https://localhost:8080/"
        },
        "id": "dh23GE8xBSBY",
        "outputId": "39c56cef-b8ab-4612-dccc-36126a68ef62"
      },
      "execution_count": null,
      "outputs": [
        {
          "output_type": "stream",
          "name": "stdout",
          "text": [
            "The colors are Blue Blue Blue \n"
          ]
        }
      ]
    },
    {
      "cell_type": "code",
      "source": [
        "print(\"The colors are {r} {g} {b} \".format(r=\"Red\", g=\"Green\", b=\"Blue\"))"
      ],
      "metadata": {
        "colab": {
          "base_uri": "https://localhost:8080/"
        },
        "id": "URwzPJZlBR-v",
        "outputId": "1364acbf-6396-4518-ece5-d3117f6f228c"
      },
      "execution_count": null,
      "outputs": [
        {
          "output_type": "stream",
          "name": "stdout",
          "text": [
            "The colors are Red Green Blue \n"
          ]
        }
      ]
    },
    {
      "cell_type": "code",
      "source": [
        "print(\"The colors are {r} {r} {r} \".format(r=\"Red\", g=\"Green\", b=\"Blue\"))"
      ],
      "metadata": {
        "colab": {
          "base_uri": "https://localhost:8080/"
        },
        "id": "xvqOh_bNBR7m",
        "outputId": "4a4fa95d-0947-4ec7-9053-7b844e93bf12"
      },
      "execution_count": null,
      "outputs": [
        {
          "output_type": "stream",
          "name": "stdout",
          "text": [
            "The colors are Red Red Red \n"
          ]
        }
      ]
    },
    {
      "cell_type": "code",
      "source": [
        "print(f\"The colors are {'Red'} {'Green'} {'Blue'}\")"
      ],
      "metadata": {
        "colab": {
          "base_uri": "https://localhost:8080/"
        },
        "id": "CNK9RtDrBR1V",
        "outputId": "53728430-346c-4343-c0a9-6e4b2086f1ae"
      },
      "execution_count": null,
      "outputs": [
        {
          "output_type": "stream",
          "name": "stdout",
          "text": [
            "The colors are Red Green Blue\n"
          ]
        }
      ]
    },
    {
      "cell_type": "code",
      "source": [
        "color_1 = 'Blue'\n",
        "color_2 = 'Green'\n",
        "color_3 = 'Red'\n",
        "color_4 = 'Yellow'"
      ],
      "metadata": {
        "id": "uwrUB1_nBbmL"
      },
      "execution_count": null,
      "outputs": []
    },
    {
      "cell_type": "code",
      "source": [
        "print(f\"The colors are {color_1} {color_2} {color_3}\")"
      ],
      "metadata": {
        "colab": {
          "base_uri": "https://localhost:8080/"
        },
        "id": "3x7rn1PMBbie",
        "outputId": "46cdf76f-66f3-450e-ffb2-4747f84a6381"
      },
      "execution_count": null,
      "outputs": [
        {
          "output_type": "stream",
          "name": "stdout",
          "text": [
            "The colors are Blue Green Red\n"
          ]
        }
      ]
    }
  ]
}