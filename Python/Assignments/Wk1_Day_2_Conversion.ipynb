{
  "nbformat": 4,
  "nbformat_minor": 0,
  "metadata": {
    "colab": {
      "name": "Wk1: Day 2 Conversion.ipynb",
      "provenance": [],
      "collapsed_sections": [],
      "authorship_tag": "ABX9TyOgGeN1fRJwU/HlGnj6f8+p",
      "include_colab_link": true
    },
    "kernelspec": {
      "name": "python3",
      "display_name": "Python 3"
    },
    "language_info": {
      "name": "python"
    }
  },
  "cells": [
    {
      "cell_type": "markdown",
      "metadata": {
        "id": "view-in-github",
        "colab_type": "text"
      },
      "source": [
        "<a href=\"https://colab.research.google.com/github/CelesTech03/Data-Analytics-Winter-2022/blob/main/Python/Assignments/Wk1_Day_2_Conversion.ipynb\" target=\"_parent\"><img src=\"https://colab.research.google.com/assets/colab-badge.svg\" alt=\"Open In Colab\"/></a>"
      ]
    },
    {
      "cell_type": "markdown",
      "source": [
        "#Take any number from a user and convert it into Binary, Octal and Hexadecimal"
      ],
      "metadata": {
        "id": "d8OjIC8uiVR1"
      }
    },
    {
      "cell_type": "code",
      "source": [
        "dec = int(input(\"Enter a number that you wish to convert to Binary, Octal and Hexadecimal: \"))\n",
        "print(dec, \"converted is: \")\n",
        "print(bin(dec),\"in binary.\")\n",
        "print(oct(dec),\"in octal.\")\n",
        "print(hex(dec),\"in hexadecimal.\")"
      ],
      "metadata": {
        "colab": {
          "base_uri": "https://localhost:8080/"
        },
        "id": "bLy69geWib7q",
        "outputId": "ee7a656b-fa6f-4713-e9e5-ed4cec5cce95"
      },
      "execution_count": null,
      "outputs": [
        {
          "output_type": "stream",
          "name": "stdout",
          "text": [
            "Enter a number that you wish to convert to Binary, Octal and Hexadecimal: 500\n",
            "500 converted is: \n",
            "0b111110100 in binary.\n",
            "0o764 in octal.\n",
            "0x1f4 in hexadecimal.\n"
          ]
        }
      ]
    }
  ]
}