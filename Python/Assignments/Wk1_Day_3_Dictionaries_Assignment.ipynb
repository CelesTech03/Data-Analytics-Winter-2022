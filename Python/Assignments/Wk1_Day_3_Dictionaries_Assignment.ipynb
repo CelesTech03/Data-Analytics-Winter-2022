{
  "nbformat": 4,
  "nbformat_minor": 0,
  "metadata": {
    "colab": {
      "name": "Wk1: Day 3 Dictionaries Assignment.ipynb",
      "provenance": [],
      "collapsed_sections": [],
      "authorship_tag": "ABX9TyPRpC5CMfkucuuzrm1M68Gw",
      "include_colab_link": true
    },
    "kernelspec": {
      "name": "python3",
      "display_name": "Python 3"
    },
    "language_info": {
      "name": "python"
    }
  },
  "cells": [
    {
      "cell_type": "markdown",
      "metadata": {
        "id": "view-in-github",
        "colab_type": "text"
      },
      "source": [
        "<a href=\"https://colab.research.google.com/github/CelesTech03/Data-Analytics-Winter-2022/blob/main/Python/Assignments/Wk1_Day_3_Dictionaries_Assignment.ipynb\" target=\"_parent\"><img src=\"https://colab.research.google.com/assets/colab-badge.svg\" alt=\"Open In Colab\"/></a>"
      ]
    },
    {
      "cell_type": "markdown",
      "source": [
        "#Python Dictionaries"
      ],
      "metadata": {
        "id": "96SmJ4R1e7vC"
      }
    },
    {
      "cell_type": "code",
      "source": [
        "# 1.Create a simple dictionary that stores 2 variables, for example: first and last name.\n",
        "simple = {1: 'firstname', 2: 'lastname'}"
      ],
      "metadata": {
        "id": "ftEf69gofAp4"
      },
      "execution_count": null,
      "outputs": []
    },
    {
      "cell_type": "code",
      "source": [
        "# 2.Print out those variables stored in your previous dictionary.\n",
        "print(simple) \n",
        "print(simple[1],simple[2])\n",
        "print(simple.items())"
      ],
      "metadata": {
        "colab": {
          "base_uri": "https://localhost:8080/"
        },
        "id": "vpPozVJffAn9",
        "outputId": "128810f0-f081-41dd-90fc-b3a21651c2a0"
      },
      "execution_count": null,
      "outputs": [
        {
          "output_type": "stream",
          "name": "stdout",
          "text": [
            "{1: 'firstname', 2: 'lastname'}\n",
            "firstname lastname\n",
            "dict_items([(1, 'firstname'), (2, 'lastname')])\n"
          ]
        }
      ]
    },
    {
      "cell_type": "code",
      "source": [
        "# 3.Add a message to those variables on printing: for example: \"Hello, firstname lastname!\"\n",
        "print('Hello, ' + simple[1], simple[2] + '!')"
      ],
      "metadata": {
        "colab": {
          "base_uri": "https://localhost:8080/"
        },
        "id": "LTVhnrX8fAlr",
        "outputId": "c0e960e5-7a14-4b9c-8a47-42b963e8b631"
      },
      "execution_count": null,
      "outputs": [
        {
          "output_type": "stream",
          "name": "stdout",
          "text": [
            "Hello, firstname lastname!\n"
          ]
        }
      ]
    },
    {
      "cell_type": "code",
      "source": [
        "# 4.Create a dictionary that holds 2 key: value pairs:\n",
        "player_1 = {'health': '100', 'stamina' : '50'}\n",
        "# a. Look through your dictionary and print each pair\n",
        "print(f'Your starting player stats are: {player_1[\"health\"]} and {player_1[\"stamina\"]}')\n",
        "for key, value in player_1.items():\n",
        "  print(\"\\nKey: \" + key)\n",
        "  print(\"\\nValue: \" + value)"
      ],
      "metadata": {
        "colab": {
          "base_uri": "https://localhost:8080/"
        },
        "id": "UOFaUC1zfAjk",
        "outputId": "54f87b15-bcb2-4c0c-b0e5-cabb8003dc0a"
      },
      "execution_count": null,
      "outputs": [
        {
          "output_type": "stream",
          "name": "stdout",
          "text": [
            "Your starting player stats are: 100 and 50\n",
            "\n",
            "Key: health\n",
            "\n",
            "Value: 100\n",
            "\n",
            "Key: stamina\n",
            "\n",
            "Value: 50\n"
          ]
        }
      ]
    },
    {
      "cell_type": "code",
      "source": [
        "# 5. Create a nested dictionary containing three dictionaries - these dictionaries could be\n",
        "# anything(favorite pets, travel locations, etc.)\n",
        "nested = {\n",
        "    'pet' : {'breed' : 'chihuahua', 'age' : '11', 'color' : 'brown'},\n",
        "    'travel' : {'planet' : 'earth', 'country' : 'usa', 'state' : 'ny'},\n",
        "    'food' : {'meal' : 'lunch', 'type' : 'mexican', 'dish' : 'tacos'},\n",
        "}    \n",
        "# a. Loop through the dictionaries and print a message for each\n",
        "for i,j in nested.items():\n",
        "  print('This is my ' + i + ' info' + str(j)) "
      ],
      "metadata": {
        "colab": {
          "base_uri": "https://localhost:8080/"
        },
        "id": "450b4eV9fAhe",
        "outputId": "79f12c96-10ec-454e-b057-2cf538ae67f7"
      },
      "execution_count": null,
      "outputs": [
        {
          "output_type": "stream",
          "name": "stdout",
          "text": [
            "This is my pet info{'breed': 'chihuahua', 'age': '11', 'color': 'brown'}\n",
            "This is my travel info{'planet': 'earth', 'country': 'usa', 'state': 'ny'}\n",
            "This is my food info{'meal': 'lunch', 'type': 'mexican', 'dish': 'tacos'}\n"
          ]
        }
      ]
    }
  ]
}