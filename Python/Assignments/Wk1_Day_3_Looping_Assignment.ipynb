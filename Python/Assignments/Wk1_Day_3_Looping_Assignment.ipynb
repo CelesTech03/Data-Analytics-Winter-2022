{
  "nbformat": 4,
  "nbformat_minor": 0,
  "metadata": {
    "colab": {
      "name": "Wk1: Day 3 Looping Assignment.ipynb",
      "provenance": [],
      "collapsed_sections": [],
      "authorship_tag": "ABX9TyOXMvWtgSypx5IEoSTu3AAt",
      "include_colab_link": true
    },
    "kernelspec": {
      "name": "python3",
      "display_name": "Python 3"
    },
    "language_info": {
      "name": "python"
    }
  },
  "cells": [
    {
      "cell_type": "markdown",
      "metadata": {
        "id": "view-in-github",
        "colab_type": "text"
      },
      "source": [
        "<a href=\"https://colab.research.google.com/github/CelesTech03/Data-Analytics-Winter-2022/blob/main/Python/Assignments/Wk1_Day_3_Looping_Assignment.ipynb\" target=\"_parent\"><img src=\"https://colab.research.google.com/assets/colab-badge.svg\" alt=\"Open In Colab\"/></a>"
      ]
    },
    {
      "cell_type": "markdown",
      "source": [
        "#Looping"
      ],
      "metadata": {
        "id": "67YopWY2aGjT"
      }
    },
    {
      "cell_type": "code",
      "source": [
        "# 1.Create a list that holds 5 data variables\n",
        "fruits = ['Orange', 'Pear', 'Apple', 'Watermelon', 'Peach']"
      ],
      "metadata": {
        "id": "L2PmHjWHaOjU"
      },
      "execution_count": null,
      "outputs": []
    },
    {
      "cell_type": "code",
      "source": [
        "# 2.Print out those variables by using a for loop\n",
        "for i in fruits:\n",
        "  print(i)"
      ],
      "metadata": {
        "colab": {
          "base_uri": "https://localhost:8080/"
        },
        "id": "LUmgEDdLaOhO",
        "outputId": "81d3a7a1-169f-401b-f828-80ffbf6b4e76"
      },
      "execution_count": null,
      "outputs": [
        {
          "output_type": "stream",
          "name": "stdout",
          "text": [
            "Orange\n",
            "Pear\n",
            "Apple\n",
            "Watermelon\n",
            "Peach\n"
          ]
        }
      ]
    },
    {
      "cell_type": "code",
      "source": [
        "# 3.Modify your for loop to add a message to your for loop\n",
        "for i in fruits:\n",
        "  print(i + ' is one of my fave fruits')"
      ],
      "metadata": {
        "colab": {
          "base_uri": "https://localhost:8080/"
        },
        "id": "lmAQA53LaOfI",
        "outputId": "88d186d1-4fb0-4e31-e273-f3159b991bc9"
      },
      "execution_count": null,
      "outputs": [
        {
          "output_type": "stream",
          "name": "stdout",
          "text": [
            "Orange is one of my fave fruits\n",
            "Pear is one of my fave fruits\n",
            "Apple is one of my fave fruits\n",
            "Watermelon is one of my fave fruits\n",
            "Peach is one of my fave fruits\n"
          ]
        }
      ]
    },
    {
      "cell_type": "code",
      "source": [
        "# 4.Use a for loop to print even numbers from 1-20\n",
        "for x in range(1,21):\n",
        "  if x % 2 == 0:\n",
        "    print(x)"
      ],
      "metadata": {
        "colab": {
          "base_uri": "https://localhost:8080/"
        },
        "id": "_HteiJP0aOdL",
        "outputId": "636b3889-875c-47f4-bac6-f17eb9788eb9"
      },
      "execution_count": null,
      "outputs": [
        {
          "output_type": "stream",
          "name": "stdout",
          "text": [
            "2\n",
            "4\n",
            "6\n",
            "8\n",
            "10\n",
            "12\n",
            "14\n",
            "16\n",
            "18\n",
            "20\n"
          ]
        }
      ]
    },
    {
      "cell_type": "code",
      "source": [
        "# 5.Sort your list in alphabetical order\n",
        "fruits.sort() \n",
        "print(fruits)"
      ],
      "metadata": {
        "colab": {
          "base_uri": "https://localhost:8080/"
        },
        "id": "aBL0C4rZaOaj",
        "outputId": "d5f3265f-27e1-4ed0-bfeb-f85858534cfd"
      },
      "execution_count": null,
      "outputs": [
        {
          "output_type": "stream",
          "name": "stdout",
          "text": [
            "['Apple', 'Orange', 'Peach', 'Pear', 'Watermelon']\n"
          ]
        }
      ]
    },
    {
      "cell_type": "code",
      "source": [
        "# 6.Print out the first three elements of your list\n",
        "fruits[:3]"
      ],
      "metadata": {
        "colab": {
          "base_uri": "https://localhost:8080/"
        },
        "id": "LzvbfFrxctre",
        "outputId": "f9ec0523-c628-43ad-fba0-7094e53870b3"
      },
      "execution_count": null,
      "outputs": [
        {
          "output_type": "execute_result",
          "data": {
            "text/plain": [
              "['Apple', 'Orange', 'Peach']"
            ]
          },
          "metadata": {},
          "execution_count": 8
        }
      ]
    },
    {
      "cell_type": "code",
      "source": [
        "# 7.Create a loop to print the last 2 elements of your list\n",
        "# a. While loop\n",
        "i = len(fruits) - 1 \n",
        "while i >= 3 :\n",
        "    print(fruits[i]) \n",
        "    i -= 1"
      ],
      "metadata": {
        "colab": {
          "base_uri": "https://localhost:8080/"
        },
        "id": "RFLaX5SlcupY",
        "outputId": "1361ecf9-e7bb-4513-cfb3-5094f14ac13b"
      },
      "execution_count": null,
      "outputs": [
        {
          "output_type": "stream",
          "name": "stdout",
          "text": [
            "Watermelon\n",
            "Pear\n"
          ]
        }
      ]
    },
    {
      "cell_type": "code",
      "source": [
        "# b. For loop\n",
        "for fruit in fruits[-2:]:\n",
        "  print(fruit)"
      ],
      "metadata": {
        "colab": {
          "base_uri": "https://localhost:8080/"
        },
        "id": "SwHOkTEyyQFL",
        "outputId": "2e7d0ee1-3327-4d86-faaf-58fe78571996"
      },
      "execution_count": null,
      "outputs": [
        {
          "output_type": "stream",
          "name": "stdout",
          "text": [
            "Pear\n",
            "Watermelon\n"
          ]
        }
      ]
    }
  ]
}